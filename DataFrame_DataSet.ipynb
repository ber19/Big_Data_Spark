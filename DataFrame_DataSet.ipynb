{
 "cells": [
  {
   "cell_type": "code",
   "execution_count": 2,
   "metadata": {},
   "outputs": [
    {
     "data": {
      "text/plain": [
       "import org.apache.spark.sql.DataFrame\n",
       "import org.apache.spark.sql.Dataset\n",
       "import spark.implicits._\n"
      ]
     },
     "execution_count": 2,
     "metadata": {},
     "output_type": "execute_result"
    }
   ],
   "source": [
    "// Importamos la clase para DataFrame\n",
    "import org.apache.spark.sql.DataFrame\n",
    "// Importamos la clase para Dataset\n",
    "import org.apache.spark.sql.Dataset\n",
    "// Esta clase sirve para trabajar con Datasets\n",
    "import spark.implicits._"
   ]
  },
  {
   "cell_type": "code",
   "execution_count": 3,
   "metadata": {},
   "outputs": [
    {
     "data": {
      "text/plain": [
       "tweetsJSON: org.apache.spark.sql.DataFrame = [contributors: string, coordinates: struct<coordinates: array<double>, type: string> ... 22 more fields]\n"
      ]
     },
     "execution_count": 3,
     "metadata": {},
     "output_type": "execute_result"
    }
   ],
   "source": [
    "// Leemos el archivo como DataFrame, como JSON\n",
    "val tweetsJSON = spark.read.json(\"/home/vmuser/curso/large-17-json\")"
   ]
  },
  {
   "cell_type": "code",
   "execution_count": 4,
   "metadata": {},
   "outputs": [
    {
     "name": "stdout",
     "output_type": "stream",
     "text": [
      "root\n",
      " |-- contributors: string (nullable = true)\n",
      " |-- coordinates: struct (nullable = true)\n",
      " |    |-- coordinates: array (nullable = true)\n",
      " |    |    |-- element: double (containsNull = true)\n",
      " |    |-- type: string (nullable = true)\n",
      " |-- created_at: string (nullable = true)\n",
      " |-- entities: struct (nullable = true)\n",
      " |    |-- hashtags: array (nullable = true)\n",
      " |    |    |-- element: struct (containsNull = true)\n",
      " |    |    |    |-- indices: array (nullable = true)\n",
      " |    |    |    |    |-- element: long (containsNull = true)\n",
      " |    |    |    |-- text: string (nullable = true)\n",
      " |    |-- media: array (nullable = true)\n",
      " |    |    |-- element: struct (containsNull = true)\n",
      " |    |    |    |-- display_url: string (nullable = true)\n",
      " |    |    |    |-- expanded_url: string (nullable = true)\n",
      " |    |    |    |-- id: long (nullable = true)\n",
      " |    |    |    |-- id_str: string (nullable = true)\n",
      " |    |    |    |-- indices: array (nullable = true)\n",
      " |    |    |    |    |-- element: long (containsNull = true)\n",
      " |    |    |    |-- media_url: string (nullable = true)\n",
      " |    |    |    |-- media_url_https: string (nullable = true)\n",
      " |    |    |    |-- sizes: struct (nullable = true)\n",
      " |    |    |    |    |-- large: struct (nullable = true)\n",
      " |    |    |    |    |    |-- h: long (nullable = true)\n",
      " |    |    |    |    |    |-- resize: string (nullable = true)\n",
      " |    |    |    |    |    |-- w: long (nullable = true)\n",
      " |    |    |    |    |-- medium: struct (nullable = true)\n",
      " |    |    |    |    |    |-- h: long (nullable = true)\n",
      " |    |    |    |    |    |-- resize: string (nullable = true)\n",
      " |    |    |    |    |    |-- w: long (nullable = true)\n",
      " |    |    |    |    |-- small: struct (nullable = true)\n",
      " |    |    |    |    |    |-- h: long (nullable = true)\n",
      " |    |    |    |    |    |-- resize: string (nullable = true)\n",
      " |    |    |    |    |    |-- w: long (nullable = true)\n",
      " |    |    |    |    |-- thumb: struct (nullable = true)\n",
      " |    |    |    |    |    |-- h: long (nullable = true)\n",
      " |    |    |    |    |    |-- resize: string (nullable = true)\n",
      " |    |    |    |    |    |-- w: long (nullable = true)\n",
      " |    |    |    |-- source_status_id: long (nullable = true)\n",
      " |    |    |    |-- source_status_id_str: string (nullable = true)\n",
      " |    |    |    |-- type: string (nullable = true)\n",
      " |    |    |    |-- url: string (nullable = true)\n",
      " |    |-- urls: array (nullable = true)\n",
      " |    |    |-- element: struct (containsNull = true)\n",
      " |    |    |    |-- display_url: string (nullable = true)\n",
      " |    |    |    |-- expanded_url: string (nullable = true)\n",
      " |    |    |    |-- indices: array (nullable = true)\n",
      " |    |    |    |    |-- element: long (containsNull = true)\n",
      " |    |    |    |-- url: string (nullable = true)\n",
      " |    |-- user_mentions: array (nullable = true)\n",
      " |    |    |-- element: struct (containsNull = true)\n",
      " |    |    |    |-- id: long (nullable = true)\n",
      " |    |    |    |-- id_str: string (nullable = true)\n",
      " |    |    |    |-- indices: array (nullable = true)\n",
      " |    |    |    |    |-- element: long (containsNull = true)\n",
      " |    |    |    |-- name: string (nullable = true)\n",
      " |    |    |    |-- screen_name: string (nullable = true)\n",
      " |-- favorited: boolean (nullable = true)\n",
      " |-- geo: struct (nullable = true)\n",
      " |    |-- coordinates: array (nullable = true)\n",
      " |    |    |-- element: double (containsNull = true)\n",
      " |    |-- type: string (nullable = true)\n",
      " |-- id: long (nullable = true)\n",
      " |-- id_str: string (nullable = true)\n",
      " |-- in_reply_to_screen_name: string (nullable = true)\n",
      " |-- in_reply_to_status_id: long (nullable = true)\n",
      " |-- in_reply_to_status_id_str: string (nullable = true)\n",
      " |-- in_reply_to_user_id: long (nullable = true)\n",
      " |-- in_reply_to_user_id_str: string (nullable = true)\n",
      " |-- lang: string (nullable = true)\n",
      " |-- limit: struct (nullable = true)\n",
      " |    |-- track: long (nullable = true)\n",
      " |-- place: struct (nullable = true)\n",
      " |    |-- attributes: struct (nullable = true)\n",
      " |    |    |-- locality: string (nullable = true)\n",
      " |    |    |-- region: string (nullable = true)\n",
      " |    |    |-- street_address: string (nullable = true)\n",
      " |    |-- bounding_box: struct (nullable = true)\n",
      " |    |    |-- coordinates: array (nullable = true)\n",
      " |    |    |    |-- element: array (containsNull = true)\n",
      " |    |    |    |    |-- element: array (containsNull = true)\n",
      " |    |    |    |    |    |-- element: double (containsNull = true)\n",
      " |    |    |-- type: string (nullable = true)\n",
      " |    |-- country: string (nullable = true)\n",
      " |    |-- country_code: string (nullable = true)\n",
      " |    |-- full_name: string (nullable = true)\n",
      " |    |-- id: string (nullable = true)\n",
      " |    |-- name: string (nullable = true)\n",
      " |    |-- place_type: string (nullable = true)\n",
      " |    |-- url: string (nullable = true)\n",
      " |-- possibly_sensitive: boolean (nullable = true)\n",
      " |-- retweet_count: long (nullable = true)\n",
      " |-- retweeted: boolean (nullable = true)\n",
      " |-- retweeted_status: struct (nullable = true)\n",
      " |    |-- contributors: array (nullable = true)\n",
      " |    |    |-- element: long (containsNull = true)\n",
      " |    |-- coordinates: struct (nullable = true)\n",
      " |    |    |-- coordinates: array (nullable = true)\n",
      " |    |    |    |-- element: double (containsNull = true)\n",
      " |    |    |-- type: string (nullable = true)\n",
      " |    |-- created_at: string (nullable = true)\n",
      " |    |-- entities: struct (nullable = true)\n",
      " |    |    |-- hashtags: array (nullable = true)\n",
      " |    |    |    |-- element: struct (containsNull = true)\n",
      " |    |    |    |    |-- indices: array (nullable = true)\n",
      " |    |    |    |    |    |-- element: long (containsNull = true)\n",
      " |    |    |    |    |-- text: string (nullable = true)\n",
      " |    |    |-- media: array (nullable = true)\n",
      " |    |    |    |-- element: struct (containsNull = true)\n",
      " |    |    |    |    |-- display_url: string (nullable = true)\n",
      " |    |    |    |    |-- expanded_url: string (nullable = true)\n",
      " |    |    |    |    |-- id: long (nullable = true)\n",
      " |    |    |    |    |-- id_str: string (nullable = true)\n",
      " |    |    |    |    |-- indices: array (nullable = true)\n",
      " |    |    |    |    |    |-- element: long (containsNull = true)\n",
      " |    |    |    |    |-- media_url: string (nullable = true)\n",
      " |    |    |    |    |-- media_url_https: string (nullable = true)\n",
      " |    |    |    |    |-- sizes: struct (nullable = true)\n",
      " |    |    |    |    |    |-- large: struct (nullable = true)\n",
      " |    |    |    |    |    |    |-- h: long (nullable = true)\n",
      " |    |    |    |    |    |    |-- resize: string (nullable = true)\n",
      " |    |    |    |    |    |    |-- w: long (nullable = true)\n",
      " |    |    |    |    |    |-- medium: struct (nullable = true)\n",
      " |    |    |    |    |    |    |-- h: long (nullable = true)\n",
      " |    |    |    |    |    |    |-- resize: string (nullable = true)\n",
      " |    |    |    |    |    |    |-- w: long (nullable = true)\n",
      " |    |    |    |    |    |-- small: struct (nullable = true)\n",
      " |    |    |    |    |    |    |-- h: long (nullable = true)\n",
      " |    |    |    |    |    |    |-- resize: string (nullable = true)\n",
      " |    |    |    |    |    |    |-- w: long (nullable = true)\n",
      " |    |    |    |    |    |-- thumb: struct (nullable = true)\n",
      " |    |    |    |    |    |    |-- h: long (nullable = true)\n",
      " |    |    |    |    |    |    |-- resize: string (nullable = true)\n",
      " |    |    |    |    |    |    |-- w: long (nullable = true)\n",
      " |    |    |    |    |-- source_status_id: long (nullable = true)\n",
      " |    |    |    |    |-- source_status_id_str: string (nullable = true)\n",
      " |    |    |    |    |-- type: string (nullable = true)\n",
      " |    |    |    |    |-- url: string (nullable = true)\n",
      " |    |    |-- urls: array (nullable = true)\n",
      " |    |    |    |-- element: struct (containsNull = true)\n",
      " |    |    |    |    |-- display_url: string (nullable = true)\n",
      " |    |    |    |    |-- expanded_url: string (nullable = true)\n",
      " |    |    |    |    |-- indices: array (nullable = true)\n",
      " |    |    |    |    |    |-- element: long (containsNull = true)\n",
      " |    |    |    |    |-- url: string (nullable = true)\n",
      " |    |    |-- user_mentions: array (nullable = true)\n",
      " |    |    |    |-- element: struct (containsNull = true)\n",
      " |    |    |    |    |-- id: long (nullable = true)\n",
      " |    |    |    |    |-- id_str: string (nullable = true)\n",
      " |    |    |    |    |-- indices: array (nullable = true)\n",
      " |    |    |    |    |    |-- element: long (containsNull = true)\n",
      " |    |    |    |    |-- name: string (nullable = true)\n",
      " |    |    |    |    |-- screen_name: string (nullable = true)\n",
      " |    |-- favorited: boolean (nullable = true)\n",
      " |    |-- geo: struct (nullable = true)\n",
      " |    |    |-- coordinates: array (nullable = true)\n",
      " |    |    |    |-- element: double (containsNull = true)\n",
      " |    |    |-- type: string (nullable = true)\n",
      " |    |-- id: long (nullable = true)\n",
      " |    |-- id_str: string (nullable = true)\n",
      " |    |-- in_reply_to_screen_name: string (nullable = true)\n",
      " |    |-- in_reply_to_status_id: long (nullable = true)\n",
      " |    |-- in_reply_to_status_id_str: string (nullable = true)\n",
      " |    |-- in_reply_to_user_id: long (nullable = true)\n",
      " |    |-- in_reply_to_user_id_str: string (nullable = true)\n",
      " |    |-- lang: string (nullable = true)\n",
      " |    |-- place: struct (nullable = true)\n",
      " |    |    |-- attributes: struct (nullable = true)\n",
      " |    |    |    |-- street_address: string (nullable = true)\n",
      " |    |    |-- bounding_box: struct (nullable = true)\n",
      " |    |    |    |-- coordinates: array (nullable = true)\n",
      " |    |    |    |    |-- element: array (containsNull = true)\n",
      " |    |    |    |    |    |-- element: array (containsNull = true)\n",
      " |    |    |    |    |    |    |-- element: double (containsNull = true)\n",
      " |    |    |    |-- type: string (nullable = true)\n",
      " |    |    |-- country: string (nullable = true)\n",
      " |    |    |-- country_code: string (nullable = true)\n",
      " |    |    |-- full_name: string (nullable = true)\n",
      " |    |    |-- id: string (nullable = true)\n",
      " |    |    |-- name: string (nullable = true)\n",
      " |    |    |-- place_type: string (nullable = true)\n",
      " |    |    |-- url: string (nullable = true)\n",
      " |    |-- possibly_sensitive: boolean (nullable = true)\n",
      " |    |-- retweet_count: long (nullable = true)\n",
      " |    |-- retweeted: boolean (nullable = true)\n",
      " |    |-- scopes: struct (nullable = true)\n",
      " |    |    |-- followers: boolean (nullable = true)\n",
      " |    |-- source: string (nullable = true)\n",
      " |    |-- text: string (nullable = true)\n",
      " |    |-- truncated: boolean (nullable = true)\n",
      " |    |-- user: struct (nullable = true)\n",
      " |    |    |-- contributors_enabled: boolean (nullable = true)\n",
      " |    |    |-- created_at: string (nullable = true)\n",
      " |    |    |-- default_profile: boolean (nullable = true)\n",
      " |    |    |-- default_profile_image: boolean (nullable = true)\n",
      " |    |    |-- description: string (nullable = true)\n",
      " |    |    |-- favourites_count: long (nullable = true)\n",
      " |    |    |-- follow_request_sent: string (nullable = true)\n",
      " |    |    |-- followers_count: long (nullable = true)\n",
      " |    |    |-- following: string (nullable = true)\n",
      " |    |    |-- friends_count: long (nullable = true)\n",
      " |    |    |-- geo_enabled: boolean (nullable = true)\n",
      " |    |    |-- id: long (nullable = true)\n",
      " |    |    |-- id_str: string (nullable = true)\n",
      " |    |    |-- is_translator: boolean (nullable = true)\n",
      " |    |    |-- lang: string (nullable = true)\n",
      " |    |    |-- listed_count: long (nullable = true)\n",
      " |    |    |-- location: string (nullable = true)\n",
      " |    |    |-- name: string (nullable = true)\n",
      " |    |    |-- notifications: string (nullable = true)\n",
      " |    |    |-- profile_background_color: string (nullable = true)\n",
      " |    |    |-- profile_background_image_url: string (nullable = true)\n",
      " |    |    |-- profile_background_image_url_https: string (nullable = true)\n",
      " |    |    |-- profile_background_tile: boolean (nullable = true)\n",
      " |    |    |-- profile_banner_url: string (nullable = true)\n",
      " |    |    |-- profile_image_url: string (nullable = true)\n",
      " |    |    |-- profile_image_url_https: string (nullable = true)\n",
      " |    |    |-- profile_link_color: string (nullable = true)\n",
      " |    |    |-- profile_sidebar_border_color: string (nullable = true)\n",
      " |    |    |-- profile_sidebar_fill_color: string (nullable = true)\n",
      " |    |    |-- profile_text_color: string (nullable = true)\n",
      " |    |    |-- profile_use_background_image: boolean (nullable = true)\n",
      " |    |    |-- protected: boolean (nullable = true)\n",
      " |    |    |-- screen_name: string (nullable = true)\n",
      " |    |    |-- statuses_count: long (nullable = true)\n",
      " |    |    |-- time_zone: string (nullable = true)\n",
      " |    |    |-- url: string (nullable = true)\n",
      " |    |    |-- utc_offset: long (nullable = true)\n",
      " |    |    |-- verified: boolean (nullable = true)\n",
      " |-- source: string (nullable = true)\n",
      " |-- text: string (nullable = true)\n",
      " |-- truncated: boolean (nullable = true)\n",
      " |-- user: struct (nullable = true)\n",
      " |    |-- contributors_enabled: boolean (nullable = true)\n",
      " |    |-- created_at: string (nullable = true)\n",
      " |    |-- default_profile: boolean (nullable = true)\n",
      " |    |-- default_profile_image: boolean (nullable = true)\n",
      " |    |-- description: string (nullable = true)\n",
      " |    |-- favourites_count: long (nullable = true)\n",
      " |    |-- follow_request_sent: string (nullable = true)\n",
      " |    |-- followers_count: long (nullable = true)\n",
      " |    |-- following: string (nullable = true)\n",
      " |    |-- friends_count: long (nullable = true)\n",
      " |    |-- geo_enabled: boolean (nullable = true)\n",
      " |    |-- id: long (nullable = true)\n",
      " |    |-- id_str: string (nullable = true)\n",
      " |    |-- is_translator: boolean (nullable = true)\n",
      " |    |-- lang: string (nullable = true)\n",
      " |    |-- listed_count: long (nullable = true)\n",
      " |    |-- location: string (nullable = true)\n",
      " |    |-- name: string (nullable = true)\n",
      " |    |-- notifications: string (nullable = true)\n",
      " |    |-- profile_background_color: string (nullable = true)\n",
      " |    |-- profile_background_image_url: string (nullable = true)\n",
      " |    |-- profile_background_image_url_https: string (nullable = true)\n",
      " |    |-- profile_background_tile: boolean (nullable = true)\n",
      " |    |-- profile_banner_url: string (nullable = true)\n",
      " |    |-- profile_image_url: string (nullable = true)\n",
      " |    |-- profile_image_url_https: string (nullable = true)\n",
      " |    |-- profile_link_color: string (nullable = true)\n",
      " |    |-- profile_sidebar_border_color: string (nullable = true)\n",
      " |    |-- profile_sidebar_fill_color: string (nullable = true)\n",
      " |    |-- profile_text_color: string (nullable = true)\n",
      " |    |-- profile_use_background_image: boolean (nullable = true)\n",
      " |    |-- protected: boolean (nullable = true)\n",
      " |    |-- screen_name: string (nullable = true)\n",
      " |    |-- statuses_count: long (nullable = true)\n",
      " |    |-- time_zone: string (nullable = true)\n",
      " |    |-- url: string (nullable = true)\n",
      " |    |-- utc_offset: long (nullable = true)\n",
      " |    |-- verified: boolean (nullable = true)\n"
     ]
    },
    {
     "name": "stdout",
     "output_type": "stream",
     "text": [
      "\n"
     ]
    }
   ],
   "source": [
    "// Mostramos el esquema del DataFrame\n",
    "tweetsJSON.printSchema()"
   ]
  },
  {
   "cell_type": "code",
   "execution_count": 5,
   "metadata": {},
   "outputs": [
    {
     "data": {
      "text/plain": [
       "res1: org.apache.spark.sql.Row = [null,null,Fri Dec 21 22:53:46 +0000 2012,[WrappedArray(),null,WrappedArray([bit.ly/UWIjMN,http://bit.ly/UWIjMN,WrappedArray(48, 68),http://t.co/Nuec5Wh6]),WrappedArray()],false,null,282257583836889090,282257583836889090,null,null,null,null,null,en,null,null,false,0,false,null,<a href=\"http://twitterfeed.com\" rel=\"nofollow\">twitterfeed</a>,Obama meets Reid on fiscal cliff, plans remarks http://t.co/Nuec5Wh6,false,[false,Mon Mar 30 18:56:55 +0000 2009,false,false,,0,null,1995,null,67,true,27703934,27703934,false,en,94,Washington DC,Washington Examiner,null,FFFFFF,http://a0.twimg.com/profile_background_images/553522199/twitter-design-Sections1.jpg,https://si0.twimg.com/profile_background_images/553522199/twitter-design-Sections1.jpg,false,null,http://a0.tw..."
      ]
     },
     "execution_count": 5,
     "metadata": {},
     "output_type": "execute_result"
    }
   ],
   "source": [
    "// Mostramos el primer elemento del DataFrame\n",
    "tweetsJSON.first()"
   ]
  },
  {
   "cell_type": "code",
   "execution_count": 32,
   "metadata": {},
   "outputs": [
    {
     "name": "stdout",
     "output_type": "stream",
     "text": [
      "+---------------+\n",
      "|    screen_name|\n",
      "+---------------+\n",
      "|   washexaminer|\n",
      "|narrychristmas_|\n",
      "|  nicolehoran08|\n",
      "|     Odemanjr15|\n",
      "|       colovion|\n",
      "|Coolan_n_Foolan|\n",
      "|     YoSoyDalia|\n",
      "|   KinderdijkNL|\n",
      "|    akmalarif90|\n",
      "|   organicsblue|\n",
      "|  Odielicious18|\n",
      "| ArticLightning|\n",
      "|      skyriver1|\n",
      "|      MAliciavp|\n",
      "|    dave53elmer|\n",
      "|     onegringaa|\n",
      "|  FingerStinger|\n",
      "|       mario87s|\n",
      "|  brownandbella|\n",
      "|   zhaiickodrjv|\n",
      "+---------------+\n",
      "only showing top 20 rows\n",
      "\n"
     ]
    }
   ],
   "source": [
    "// Mostramos los registros del atributo screen_name del atributo user, del \n",
    "// DataFrame (Ver la estructura del DataFrame)\n",
    "tweetsJSON.select(\"user.screen_name\").show()"
   ]
  },
  {
   "cell_type": "code",
   "execution_count": 37,
   "metadata": {},
   "outputs": [
    {
     "data": {
      "text/plain": [
       "defined class Tweet\n"
      ]
     },
     "execution_count": 37,
     "metadata": {},
     "output_type": "execute_result"
    }
   ],
   "source": [
    "// Creamos una clase que tendra la estructura con la que queremos trabajar el DataFrame.\n",
    "// Con Option[] se define que se admiten valores nulos o vacios. \n",
    "case class Tweet(fecha_creacion: Option[String], usuario: Option[String],\n",
    "                 isRT: Option[Boolean], numRT: Option[Long], texto: Option[String],\n",
    "                 idioma: Option[String], tweet_sensible: Boolean, source: String,\n",
    "                 favorito: Option[Boolean], numSeguidores: Option[Long])"
   ]
  },
  {
   "cell_type": "code",
   "execution_count": 38,
   "metadata": {},
   "outputs": [
    {
     "data": {
      "text/plain": [
       "tweetsDF: org.apache.spark.sql.DataFrame = [created_at: string, screen_name: string ... 8 more fields]\n"
      ]
     },
     "execution_count": 38,
     "metadata": {},
     "output_type": "execute_result"
    }
   ],
   "source": [
    "// Seleccionamos las columnas indicadas del DataFrame\n",
    "val tweetsDF = tweetsJSON.select(\"created_at\", \"user.screen_name\",\n",
    "                                \"retweeted\", \"retweet_count\", \"text\",\n",
    "                                \"lang\", \"possibly_sensitive\", \"source\",\n",
    "                                \"retweeted_status.favorited\",\n",
    "                                \"user.followers_count\")"
   ]
  },
  {
   "cell_type": "code",
   "execution_count": 36,
   "metadata": {},
   "outputs": [
    {
     "data": {
      "text/plain": [
       "tweetsDS: org.apache.spark.sql.Dataset[Tweet] = [fecha_creacion: string, usuario: string ... 8 more fields]\n"
      ]
     },
     "execution_count": 36,
     "metadata": {},
     "output_type": "execute_result"
    }
   ],
   "source": [
    "// Convertimos el DataFrame(tweetsDF) a un DataSet \n",
    "// y le otorgamos la estructura definida en la clase Tweet \n",
    "val tweetsDS = tweetsDF.toDF(\"fecha_creacion\", \"usuario\", \"isRT\",\n",
    "                           \"numRT\", \"texto\", \"idioma\", \"tweet_sensible\",\n",
    "                           \"source\", \"favorito\", \n",
    "                           \"numSeguidores\").as[Tweet]"
   ]
  },
  {
   "cell_type": "code",
   "execution_count": 39,
   "metadata": {},
   "outputs": [
    {
     "name": "stdout",
     "output_type": "stream",
     "text": [
      "+--------------------+---------------+\n",
      "|               texto|        usuario|\n",
      "+--------------------+---------------+\n",
      "|RT @Clapsico: OTR...|      MAliciavp|\n",
      "|RT @atienzajc: Ll...|       mario87s|\n",
      "|@onedirecshon htt...| runforawarzone|\n",
      "|Que Mi Media Nara...|NicolCardenas11|\n",
      "|\"@globovision: Ob...|       greichis|\n",
      "|No pega que tenga...|juliannerxbedwe|\n",
      "|Larry aun existe ...|     LWWY_LT_1D|\n",
      "|RT @MiPrincesoMal...|    Ladyandboss|\n",
      "|Si, http://t.co/H...|      Tururunes|\n",
      "|Me piro a sobar q...|      elbabas11|\n",
      "|RT @JulianGottig1...|     mati_q1000|\n",
      "|RT @Anne375: #FF ...|       Karnoumz|\n",
      "|@jossymi28 aww! T...| EXOPlanetSpain|\n",
      "|Obama está hablan...|     FINANCEXXI|\n",
      "|me ha tocado medi...|Jero5realmadrid|\n",
      "|Menos buscas más ...|MauriCristiano_|\n",
      "|1.7 Cubic-Ft Refr...|   workkitchens|\n",
      "|Necesito verla no...|      Jesusraxd|\n",
      "|https://t.co/aNOw...|     Betchakian|\n",
      "|Yo cuando ponen l...|    sugardududu|\n",
      "+--------------------+---------------+\n",
      "only showing top 20 rows\n",
      "\n"
     ]
    },
    {
     "data": {
      "text/plain": [
       "tweetSpanish: org.apache.spark.sql.DataFrame = [texto: string, usuario: string]\n"
      ]
     },
     "execution_count": 39,
     "metadata": {},
     "output_type": "execute_result"
    }
   ],
   "source": [
    "// Hacemos un filtrado en los registros de tweetsDS, y \n",
    "// seleccionamos las columnas indicadas.\n",
    "// Obtenemos un DataFrame\n",
    "val tweetSpanish = tweetsDS.filter($\"idioma\"===\"es\").select(\"texto\", \"usuario\")\n",
    "tweetSpanish.show()"
   ]
  },
  {
   "cell_type": "code",
   "execution_count": 40,
   "metadata": {},
   "outputs": [
    {
     "name": "stdout",
     "output_type": "stream",
     "text": [
      "+--------------------+\n",
      "|                text|\n",
      "+--------------------+\n",
      "|                  []|\n",
      "|                  []|\n",
      "|                  []|\n",
      "|                  []|\n",
      "|[nra, tcot, WAR, ...|\n",
      "|                  []|\n",
      "|                  []|\n",
      "|                  []|\n",
      "|                  []|\n",
      "|                  []|\n",
      "|                  []|\n",
      "|                  []|\n",
      "|                  []|\n",
      "|                  []|\n",
      "|                  []|\n",
      "|                  []|\n",
      "|                  []|\n",
      "|                  []|\n",
      "|                  []|\n",
      "|[reasonsobamaislate]|\n",
      "+--------------------+\n",
      "only showing top 20 rows\n",
      "\n"
     ]
    },
    {
     "data": {
      "text/plain": [
       "hashtag: org.apache.spark.sql.Dataset[Array[String]] = [text: array<string>]\n"
      ]
     },
     "execution_count": 40,
     "metadata": {},
     "output_type": "execute_result"
    }
   ],
   "source": [
    "// Seleccionamos los registros del atributo text del atributo hashtags del atributo entities,\n",
    "// del DataFrame tweetsJSON (Ver la estructura del DataFrame)\n",
    "// Y los convertimos a Arrays de Strings\n",
    "// Obtenemos un DataSet.\n",
    "val hashtag = tweetsJSON.select(\"entities.hashtags.text\").as[Array[String]]\n",
    "hashtag.show()"
   ]
  },
  {
   "cell_type": "code",
   "execution_count": 26,
   "metadata": {},
   "outputs": [
    {
     "name": "stdout",
     "output_type": "stream",
     "text": [
      "+--------------------+\n",
      "|                text|\n",
      "+--------------------+\n",
      "|[nra, tcot, WAR, ...|\n",
      "|[reasonsobamaislate]|\n",
      "|         [bias, Nra]|\n",
      "|      [Israel, Gaza]|\n",
      "|[gun, PresidentOb...|\n",
      "|          [Pakistan]|\n",
      "|               [GAY]|\n",
      "|               [NYC]|\n",
      "|             [Syria]|\n",
      "|[FiscalCliff, MC,...|\n",
      "|           [imagine]|\n",
      "|     [MUITO, TRISTE]|\n",
      "|       [Pakistan, C]|\n",
      "|[obama, usa, cina...|\n",
      "|            [currar]|\n",
      "|[FreePalestine, I...|\n",
      "|            [Taurus]|\n",
      "|       [JangKeunSuk]|\n",
      "|           [thefive]|\n",
      "|                [FF]|\n",
      "+--------------------+\n",
      "only showing top 20 rows\n",
      "\n"
     ]
    },
    {
     "data": {
      "text/plain": [
       "h: org.apache.spark.sql.Dataset[Array[String]] = [text: array<string>]\n"
      ]
     },
     "execution_count": 26,
     "metadata": {},
     "output_type": "execute_result"
    }
   ],
   "source": [
    "// Hacemos un filtrado al DataSet hashtag, en cada uno de sus elementos (Arrays de Strings)\n",
    "// Solo obtenemos los arrays que no esten vacios (su tamaño sea mayor a 0)\n",
    "val h = hashtag.filter(p=>p.size>0)\n",
    "h.show()"
   ]
  },
  {
   "cell_type": "code",
   "execution_count": 46,
   "metadata": {},
   "outputs": [
    {
     "name": "stdout",
     "output_type": "stream",
     "text": [
      "+----------------+----------+\n",
      "|             key|sum(value)|\n",
      "+----------------+----------+\n",
      "|         igiveup|         1|\n",
      "|           Drink|         1|\n",
      "|         jewelry|        66|\n",
      "|             art|        34|\n",
      "|      Videogames|         2|\n",
      "|          outfit|        12|\n",
      "|              LT|        23|\n",
      "|           Virgo|       486|\n",
      "|          HRW_AR|         1|\n",
      "|         smtlive|        10|\n",
      "|            hope|        10|\n",
      "|   CelticsEspaña|         1|\n",
      "|VisitSouthAfrica|         1|\n",
      "|       YaMeCanse|         1|\n",
      "|           Tyler|         6|\n",
      "|           anime|         4|\n",
      "|      indigenous|         2|\n",
      "|             NBC|        18|\n",
      "|          travel|        36|\n",
      "|          online|        14|\n",
      "+----------------+----------+\n",
      "only showing top 20 rows\n",
      "\n"
     ]
    },
    {
     "data": {
      "text/plain": [
       "pares: org.apache.spark.sql.Dataset[(String, Int)] = [_1: string, _2: int]\n",
       "cuenta: org.apache.spark.sql.DataFrame = [key: string, sum(value): bigint]\n"
      ]
     },
     "execution_count": 46,
     "metadata": {},
     "output_type": "execute_result"
    }
   ],
   "source": [
    "// En cada uno de los arrays, en cada string, creamos una tupla que contiene\n",
    "// el string y un 1 (entero, servira para hacer el conteo de palabras).\n",
    "// Obtenemos un DataSet\n",
    "val pares = h.flatMap(p=>p.map(n => (n,1)))\n",
    "// Convertimos el DataSet a DataFrame, le damos nombre a las columnas\n",
    "// agrupamos los registros por su atributo \"key\".\n",
    "// Vamos sumando el atributo \"value\" de los registros para obtener un conteo de las palabras\n",
    "val cuenta = pares.toDF(\"key\", \"value\").groupBy(\"key\").agg(sum(\"value\"))\n",
    "cuenta.show()"
   ]
  },
  {
   "cell_type": "code",
   "execution_count": 30,
   "metadata": {},
   "outputs": [
    {
     "data": {
      "text/plain": [
       "import org.apache.spark.sql.functions._\n"
      ]
     },
     "execution_count": 30,
     "metadata": {},
     "output_type": "execute_result"
    }
   ],
   "source": [
    "import org.apache.spark.sql.functions._"
   ]
  },
  {
   "cell_type": "code",
   "execution_count": 31,
   "metadata": {},
   "outputs": [
    {
     "name": "stdout",
     "output_type": "stream",
     "text": [
      "+---------------+----------+\n",
      "|            key|sum(value)|\n",
      "+---------------+----------+\n",
      "|           tcot|      2912|\n",
      "|       Pakistan|      2802|\n",
      "|          Obama|      1974|\n",
      "|           NDAA|      1843|\n",
      "|          23Dec|      1693|\n",
      "|            NRA|      1538|\n",
      "|          black|      1241|\n",
      "|       TuitUtil|      1172|\n",
      "|       teaparty|      1115|\n",
      "|             p2|      1078|\n",
      "|    FiscalCliff|       887|\n",
      "|             FF|       858|\n",
      "|          Libra|       798|\n",
      "|       ChangePK|       662|\n",
      "|        Imagine|       636|\n",
      "| DrTahirulQadri|       636|\n",
      "|BelieveAcoustic|       617|\n",
      "|      Capricorn|       613|\n",
      "|           news|       605|\n",
      "|         1DNews|       549|\n",
      "+---------------+----------+\n",
      "only showing top 20 rows\n",
      "\n"
     ]
    },
    {
     "data": {
      "text/plain": [
       "cuentaOrdenada: org.apache.spark.sql.Dataset[org.apache.spark.sql.Row] = [key: string, sum(value): bigint]\n"
      ]
     },
     "execution_count": 31,
     "metadata": {},
     "output_type": "execute_result"
    }
   ],
   "source": [
    "// Ordenamos el DataFrame \"cuenta\" segun los valores de la columna \"sum(value)\"\n",
    "// de manera descendente\n",
    "val cuentaOrdenada = cuenta.orderBy(desc(\"sum(value)\"))\n",
    "cuentaOrdenada.show()"
   ]
  }
 ],
 "metadata": {
  "kernelspec": {
   "display_name": "Scala 2.11 (SPylon)",
   "language": "scala",
   "name": "spylon-kernel"
  },
  "language_info": {
   "codemirror_mode": "text/x-scala",
   "file_extension": ".scala",
   "help_links": [
    {
     "text": "MetaKernel Magics",
     "url": "https://github.com/calysto/metakernel/blob/master/metakernel/magics/README.md"
    }
   ],
   "mimetype": "text/x-scala",
   "name": "scala",
   "pygments_lexer": "scala",
   "version": "0.4.1"
  }
 },
 "nbformat": 4,
 "nbformat_minor": 2
}
