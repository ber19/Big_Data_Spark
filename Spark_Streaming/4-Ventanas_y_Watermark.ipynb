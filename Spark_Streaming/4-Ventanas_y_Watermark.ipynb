{
 "cells": [
  {
   "cell_type": "code",
   "execution_count": 1,
   "metadata": {},
   "outputs": [
    {
     "data": {
      "text/plain": [
       "Intitializing Scala interpreter ..."
      ]
     },
     "metadata": {},
     "output_type": "display_data"
    },
    {
     "data": {
      "text/plain": [
       "Spark Web UI available at http://10.0.2.15:4040\n",
       "SparkContext available as 'sc' (version = 2.4.6, master = local[*], app id = local-1616221309098)\n",
       "SparkSession available as 'spark'\n"
      ]
     },
     "metadata": {},
     "output_type": "display_data"
    },
    {
     "data": {
      "text/plain": [
       "import java.sql.Timestamp\n",
       "import org.apache.spark.sql.Row\n",
       "import spark.implicits._\n",
       "lineas: org.apache.spark.sql.DataFrame = [value: string, timestamp: timestamp]\n"
      ]
     },
     "execution_count": 1,
     "metadata": {},
     "output_type": "execute_result"
    }
   ],
   "source": [
    "// Ventanas de tiempo\n",
    "\n",
    "import java.sql.Timestamp\n",
    "import org.apache.spark.sql.Row\n",
    "import spark.implicits._\n",
    "\n",
    "val lineas = spark.readStream\n",
    "    .format(\"socket\")\n",
    "    .option(\"host\", \"localhost\")\n",
    "    .option(\"port\", 9999)\n",
    "    .option(\"includeTimestamp\", true)\n",
    "    .load()"
   ]
  },
  {
   "cell_type": "code",
   "execution_count": 4,
   "metadata": {},
   "outputs": [
    {
     "name": "stdout",
     "output_type": "stream",
     "text": [
      "-------------------------------------------\n",
      "Batch: 0\n",
      "-------------------------------------------\n",
      "+------+-------+-----+\n",
      "|window|palabra|count|\n",
      "+------+-------+-----+\n",
      "+------+-------+-----+\n",
      "\n",
      "-------------------------------------------\n",
      "Batch: 1\n",
      "-------------------------------------------\n",
      "+------------------------------------------+--------+-----+\n",
      "|window                                    |palabra |count|\n",
      "+------------------------------------------+--------+-----+\n",
      "|[2021-03-20 06:32:20, 2021-03-20 06:32:30]|hola    |1    |\n",
      "|[2021-03-20 06:32:15, 2021-03-20 06:32:25]|amigos  |1    |\n",
      "|[2021-03-20 06:32:25, 2021-03-20 06:32:35]|bernardo|1    |\n",
      "|[2021-03-20 06:32:20, 2021-03-20 06:32:30]|amigos  |1    |\n",
      "|[2021-03-20 06:32:15, 2021-03-20 06:32:25]|hola    |1    |\n",
      "|[2021-03-20 06:32:20, 2021-03-20 06:32:30]|bernardo|1    |\n",
      "+------------------------------------------+--------+-----+\n",
      "\n",
      "-------------------------------------------\n",
      "Batch: 2\n",
      "-------------------------------------------\n",
      "+------------------------------------------+--------+-----+\n",
      "|window                                    |palabra |count|\n",
      "+------------------------------------------+--------+-----+\n",
      "|[2021-03-20 06:33:15, 2021-03-20 06:33:25]|bernardo|1    |\n",
      "|[2021-03-20 06:33:10, 2021-03-20 06:33:20]|bernardo|1    |\n",
      "+------------------------------------------+--------+-----+\n",
      "\n"
     ]
    },
    {
     "data": {
      "text/plain": [
       "palabras: org.apache.spark.sql.DataFrame = [palabra: string, timestamp: timestamp]\n",
       "windowCount: org.apache.spark.sql.DataFrame = [window: struct<start: timestamp, end: timestamp>, palabra: string ... 1 more field]\n",
       "query: org.apache.spark.sql.streaming.StreamingQuery = org.apache.spark.sql.execution.streaming.StreamingQueryWrapper@73e8e143\n",
       "res2: Boolean = false\n"
      ]
     },
     "execution_count": 4,
     "metadata": {},
     "output_type": "execute_result"
    },
    {
     "name": "stdout",
     "output_type": "stream",
     "text": [
      "-------------------------------------------\n",
      "Batch: 3\n",
      "-------------------------------------------\n",
      "+------------------------------------------+-------+-----+\n",
      "|window                                    |palabra|count|\n",
      "+------------------------------------------+-------+-----+\n",
      "|[2021-03-20 06:33:40, 2021-03-20 06:33:50]|amigos |1    |\n",
      "|[2021-03-20 06:33:35, 2021-03-20 06:33:45]|amigos |1    |\n",
      "+------------------------------------------+-------+-----+\n",
      "\n"
     ]
    }
   ],
   "source": [
    "val palabras = lineas.as[(String, Timestamp)].flatMap( line =>\n",
    "                    line._1.split(\" \").map(word => (word, line._2)))\n",
    "                    .toDF(\"palabra\", \"timestamp\")\n",
    "\n",
    "//val windowCount = palabras.groupBy(\n",
    "//                    window($\"timestamp\", \"10 seconds\", \"5 seconds\"),\n",
    "//                    $\"palabra\")\n",
    "//                    .count()\n",
    "\n",
    "// La ventana de arriba pero con watermark\n",
    "val windowCount = palabras\n",
    "                    .withWatermark(\"timestamp\", \"15 seconds\")\n",
    "                    .groupBy(\n",
    "                    window($\"timestamp\", \"10 seconds\", \"5 seconds\"),\n",
    "                    $\"palabra\")\n",
    "                    .count()\n",
    "\n",
    "val query = windowCount.writeStream.outputMode(\"update\")\n",
    "            .format(\"console\")\n",
    "            .option(\"truncate\", false)\n",
    "            .start()\n",
    "\n",
    "query.awaitTermination(90000)"
   ]
  },
  {
   "cell_type": "code",
   "execution_count": 5,
   "metadata": {},
   "outputs": [],
   "source": [
    "query.stop()"
   ]
  }
 ],
 "metadata": {
  "kernelspec": {
   "display_name": "Scala 2.11 (SPylon)",
   "language": "scala",
   "name": "spylon-kernel"
  },
  "language_info": {
   "codemirror_mode": "text/x-scala",
   "file_extension": ".scala",
   "help_links": [
    {
     "text": "MetaKernel Magics",
     "url": "https://github.com/calysto/metakernel/blob/master/metakernel/magics/README.md"
    }
   ],
   "mimetype": "text/x-scala",
   "name": "scala",
   "pygments_lexer": "scala",
   "version": "0.4.1"
  }
 },
 "nbformat": 4,
 "nbformat_minor": 2
}
