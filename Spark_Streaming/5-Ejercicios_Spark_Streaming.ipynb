{
 "cells": [
  {
   "cell_type": "markdown",
   "metadata": {},
   "source": [
    "# Ejercicio 1\n",
    "\n",
    "Crear un programa el cual, recibiendo archivos con la información acerca del nombre, área y duracion del curso, muestre la duracion mayor de cada área."
   ]
  },
  {
   "cell_type": "code",
   "execution_count": 1,
   "metadata": {},
   "outputs": [
    {
     "data": {
      "text/plain": [
       "Intitializing Scala interpreter ..."
      ]
     },
     "metadata": {},
     "output_type": "display_data"
    },
    {
     "data": {
      "text/plain": [
       "Spark Web UI available at http://10.0.2.15:4040\n",
       "SparkContext available as 'sc' (version = 2.4.6, master = local[*], app id = local-1616269140602)\n",
       "SparkSession available as 'spark'\n"
      ]
     },
     "metadata": {},
     "output_type": "display_data"
    },
    {
     "data": {
      "text/plain": [
       "import spark.implicits._\n",
       "import org.apache.spark.sql.types._\n",
       "schema: org.apache.spark.sql.types.StructType = StructType(StructField(nombre,StringType,true), StructField(area,StringType,true), StructField(duracion,LongType,true))\n"
      ]
     },
     "execution_count": 1,
     "metadata": {},
     "output_type": "execute_result"
    }
   ],
   "source": [
    "import spark.implicits._\n",
    "import org.apache.spark.sql.types._\n",
    "\n",
    "val schema = new StructType().add(\"nombre\", \"string\").add(\"area\", \"string\").add(\"duracion\",\"long\")"
   ]
  },
  {
   "cell_type": "code",
   "execution_count": 2,
   "metadata": {},
   "outputs": [
    {
     "data": {
      "text/plain": [
       "cursosDF: org.apache.spark.sql.DataFrame = [nombre: string, area: string ... 1 more field]\n",
       "cursosDuracionMayor: org.apache.spark.sql.DataFrame = [area: string, max(duracion): bigint]\n",
       "query: org.apache.spark.sql.streaming.StreamingQuery = org.apache.spark.sql.execution.streaming.StreamingQueryWrapper@5979f6e2\n",
       "res0: Boolean = false\n"
      ]
     },
     "execution_count": 2,
     "metadata": {},
     "output_type": "execute_result"
    },
    {
     "name": "stdout",
     "output_type": "stream",
     "text": [
      "-------------------------------------------\n",
      "Batch: 0\n",
      "-------------------------------------------\n",
      "+-------+-------------+\n",
      "|   area|max(duracion)|\n",
      "+-------+-------------+\n",
      "| mobile|            7|\n",
      "|bigdata|            8|\n",
      "+-------+-------------+\n",
      "\n",
      "-------------------------------------------\n",
      "Batch: 1\n",
      "-------------------------------------------\n",
      "+-------+-------------+\n",
      "|   area|max(duracion)|\n",
      "+-------+-------------+\n",
      "| mobile|            7|\n",
      "|bigdata|           10|\n",
      "+-------+-------------+\n",
      "\n"
     ]
    }
   ],
   "source": [
    "val cursosDF = spark.readStream\n",
    "    .option(\"sep\",\";\")\n",
    "    .schema(schema)\n",
    "    .csv(\"/home/vmuser/cursos/\")\n",
    "\n",
    "val cursosDuracionMayor = cursosDF.groupBy(\"area\").agg(max(\"duracion\"))\n",
    "\n",
    "val query = cursosDuracionMayor.writeStream\n",
    "    .format(\"console\")\n",
    "    .outputMode(\"complete\")\n",
    "    .start()\n",
    "\n",
    "query.awaitTermination(90000)"
   ]
  },
  {
   "cell_type": "code",
   "execution_count": 2,
   "metadata": {},
   "outputs": [
    {
     "ename": "<console>",
     "evalue": "26: error: not found: value query",
     "output_type": "error",
     "traceback": [
      "<console>:26: error: not found: value query",
      "       query.stop()",
      "       ^",
      ""
     ]
    }
   ],
   "source": [
    "query.stop()"
   ]
  },
  {
   "cell_type": "markdown",
   "metadata": {},
   "source": [
    "# Ejercicio 2\n",
    "\n",
    "Crear un programa que, recibiendo en tiempo real los archivos adjuntos con nombre \"ej2_XXX.json\", muestre por pantalla el numero de tweets escritos por cada usuario de mayor a menor."
   ]
  },
  {
   "cell_type": "code",
   "execution_count": 5,
   "metadata": {},
   "outputs": [
    {
     "name": "stdout",
     "output_type": "stream",
     "text": [
      "-------------------------------------------\n",
      "Batch: 0\n",
      "-------------------------------------------\n",
      "+---------------+-----+\n",
      "|    screen_name|count|\n",
      "+---------------+-----+\n",
      "|  ___Cinthya___|   21|\n",
      "|  SocietyOhShit|   13|\n",
      "| truelove_larry|    8|\n",
      "|    IreneDuran_|    7|\n",
      "|     PalomaC_13|    7|\n",
      "|    Harrytecojo|    6|\n",
      "|    NewCampArge|    6|\n",
      "|  MariaMiniBlue|    6|\n",
      "|  MercedesPozos|    6|\n",
      "|   MissNityaGif|    6|\n",
      "|          93DO_|    6|\n",
      "|  DianaSarria5_|    5|\n",
      "|      42Alondra|    5|\n",
      "|mybritirishboys|    5|\n",
      "|      OdairsSea|    5|\n",
      "|       EmBloner|    5|\n",
      "|  ItsRoWithSwag|    5|\n",
      "|     biosca_lis|    5|\n",
      "|  Facts1DOnline|    5|\n",
      "|      1DMyMundo|    5|\n",
      "+---------------+-----+\n",
      "only showing top 20 rows\n",
      "\n",
      "-------------------------------------------\n",
      "Batch: 1\n",
      "-------------------------------------------\n",
      "+---------------+-----+\n",
      "|    screen_name|count|\n",
      "+---------------+-----+\n",
      "|  ___Cinthya___|   21|\n",
      "|    Kimberly_VA|   14|\n",
      "|  SocietyOhShit|   13|\n",
      "|    Harrytecojo|   12|\n",
      "|STYLINORANLIKNE|   11|\n",
      "| truelove_larry|   11|\n",
      "|   PauBarajas17|   10|\n",
      "|heartattack__1d|    8|\n",
      "| BelieveTourswa|    8|\n",
      "| IWillStillLuvU|    8|\n",
      "|   Findsitmyway|    7|\n",
      "|    IreneDuran_|    7|\n",
      "|     PalomaC_13|    7|\n",
      "|  ImjustAli1DJB|    7|\n",
      "|    itsgenesisd|    7|\n",
      "|MyKidrauhlBitch|    7|\n",
      "|     NHLPHSLTZM|    7|\n",
      "|          93DO_|    7|\n",
      "| PiaMacarenaLOL|    7|\n",
      "|    rockmeezayn|    7|\n",
      "+---------------+-----+\n",
      "only showing top 20 rows\n",
      "\n"
     ]
    },
    {
     "data": {
      "text/plain": [
       "import spark.implicits._\n",
       "import org.apache.spark.sql.types._\n",
       "import java.sql.Timestamp\n",
       "import org.apache.spark.sql.functions._\n",
       "schema: org.apache.spark.sql.types.StructType = StructType(StructField(created_at,TimestampType,true), StructField(screen_name,StringType,true), StructField(text,StringType,true))\n",
       "tweetsDF: org.apache.spark.sql.DataFrame = [created_at: timestamp, screen_name: string ... 1 more field]\n",
       "numTweets: org.apache.spark.sql.Dataset[org.apache.spark.sql.Row] = [screen_name: string, count: bigint]\n",
       "query: org.apache.spark.sql.streaming.StreamingQuery = org.apache.spark.sql.execution.streaming.StreamingQueryWrapper@353b140c\n",
       "res3: Boolean = false\n"
      ]
     },
     "execution_count": 5,
     "metadata": {},
     "output_type": "execute_result"
    },
    {
     "name": "stdout",
     "output_type": "stream",
     "text": [
      "-------------------------------------------\n",
      "Batch: 2\n",
      "-------------------------------------------\n",
      "+---------------+-----+\n",
      "|    screen_name|count|\n",
      "+---------------+-----+\n",
      "|  ___Cinthya___|   41|\n",
      "|    Harrytecojo|   18|\n",
      "|  SocietyOhShit|   16|\n",
      "|heartattack__1d|   14|\n",
      "|    Kimberly_VA|   14|\n",
      "|       EmBloner|   13|\n",
      "|    NewCampArge|   12|\n",
      "|    luciatisera|   12|\n",
      "| truelove_larry|   12|\n",
      "|      1DMyMundo|   12|\n",
      "|STYLINORANLIKNE|   11|\n",
      "|  Daniela_MSHPT|   11|\n",
      "|     fixapotato|   10|\n",
      "|   PauBarajas17|   10|\n",
      "|          93DO_|   10|\n",
      "|23Julio2010__1D|    9|\n",
      "|   MissNityaGif|    9|\n",
      "| BelieveTourswa|    9|\n",
      "|  anaarrambidez|    9|\n",
      "|SwagJonactioner|    9|\n",
      "+---------------+-----+\n",
      "only showing top 20 rows\n",
      "\n",
      "-------------------------------------------\n",
      "Batch: 3\n",
      "-------------------------------------------\n",
      "+---------------+-----+\n",
      "|    screen_name|count|\n",
      "+---------------+-----+\n",
      "|  ___Cinthya___|   41|\n",
      "|    valepalacio|   36|\n",
      "|    rockmeezayn|   29|\n",
      "|    carmencel95|   28|\n",
      "|CucharasMyWorld|   25|\n",
      "|   PauBarajas17|   24|\n",
      "|  OhLaLaCarrots|   23|\n",
      "|LatinNiallLover|   23|\n",
      "| CoverGirls_BTR|   23|\n",
      "|    Nayaretttth|   22|\n",
      "|        Blaaasi|   21|\n",
      "|JavierArgueta19|   21|\n",
      "|    staystro0ng|   20|\n",
      "| Phrases_Buenas|   20|\n",
      "|  henderwhore88|   20|\n",
      "| QueridoCerdito|   20|\n",
      "|_Latinamerica1D|   18|\n",
      "|    Harrytecojo|   18|\n",
      "|      OdairsSea|   18|\n",
      "|    luciatisera|   18|\n",
      "+---------------+-----+\n",
      "only showing top 20 rows\n",
      "\n"
     ]
    }
   ],
   "source": [
    "import spark.implicits._\n",
    "import org.apache.spark.sql.types._\n",
    "import java.sql.Timestamp\n",
    "import org.apache.spark.sql.functions._\n",
    "\n",
    "val schema = new StructType().add(\"created_at\", TimestampType).add(\"screen_name\",\"string\")\n",
    "                            .add(\"text\",\"string\")\n",
    "\n",
    "val tweetsDF = spark.readStream\n",
    "    .schema(schema)\n",
    "    .json(\"/home/vmuser/tweetsStreaming\")\n",
    "\n",
    "val numTweets = tweetsDF.groupBy(\"screen_name\").count().orderBy(desc(\"count\"))\n",
    "\n",
    "val query = numTweets.writeStream\n",
    "    .format(\"console\")\n",
    "    .outputMode(\"complete\")\n",
    "    .start()\n",
    "\n",
    "query.awaitTermination(90000)"
   ]
  },
  {
   "cell_type": "code",
   "execution_count": 1,
   "metadata": {},
   "outputs": [
    {
     "data": {
      "text/plain": [
       "Intitializing Scala interpreter ..."
      ]
     },
     "metadata": {},
     "output_type": "display_data"
    },
    {
     "data": {
      "text/plain": [
       "Spark Web UI available at http://10.0.2.15:4040\n",
       "SparkContext available as 'sc' (version = 2.4.6, master = local[*], app id = local-1616271141147)\n",
       "SparkSession available as 'spark'\n"
      ]
     },
     "metadata": {},
     "output_type": "display_data"
    },
    {
     "ename": "<console>",
     "evalue": "26: error: not found: value query",
     "output_type": "error",
     "traceback": [
      "<console>:26: error: not found: value query",
      "       query.stop()",
      "       ^",
      ""
     ]
    }
   ],
   "source": [
    "query.stop()"
   ]
  }
 ],
 "metadata": {
  "kernelspec": {
   "display_name": "Scala 2.11 (SPylon)",
   "language": "scala",
   "name": "spylon-kernel"
  },
  "language_info": {
   "codemirror_mode": "text/x-scala",
   "file_extension": ".scala",
   "help_links": [
    {
     "text": "MetaKernel Magics",
     "url": "https://github.com/calysto/metakernel/blob/master/metakernel/magics/README.md"
    }
   ],
   "mimetype": "text/x-scala",
   "name": "scala",
   "pygments_lexer": "scala",
   "version": "0.4.1"
  }
 },
 "nbformat": 4,
 "nbformat_minor": 2
}
