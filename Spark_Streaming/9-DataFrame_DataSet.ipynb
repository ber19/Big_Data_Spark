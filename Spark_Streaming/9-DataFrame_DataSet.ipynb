{
 "cells": [
  {
   "cell_type": "code",
   "execution_count": null,
   "metadata": {},
   "outputs": [],
   "source": [
    "import org.apache.spark._\n",
    "import org.apache.spark.streaming._\n",
    "import org.apache.spark.streaming.StreamingContext._ \n",
    "import org.apache.spark.sql.SparkSession\n",
    "\n",
    "// Creamos la configuracion\n",
    "val conf = new SparkConf().setMaster(\"local[4]\").setAppName(\"CuentaPalabras\").set(\"spark.driver.allowMultipleContexts\",\"true\")\n",
    "// Creamos el Streaming Context\n",
    "val ssc = new StreamingContext(conf, Seconds(10))\n",
    "\n",
    "// Creamos un socket\n",
    "val lines = ssc.socketTextStream(\"localhost\", 9999)\n",
    "\n",
    "val words = lines.flatMap(_.split(\" \"))\n",
    "\n",
    "\n",
    "words.foreachRDD { rdd =>\n",
    "\n",
    "  // Get the singleton instance of SparkSession\n",
    "  val spark = SparkSession.builder.config(rdd.sparkContext.getConf).getOrCreate()\n",
    "  import spark.implicits._\n",
    "\n",
    "  // Convert RDD[String] to DataFrame\n",
    "  val wordsDataFrame = rdd.toDF(\"word\")\n",
    "\n",
    "  // Create a temporary view\n",
    "  wordsDataFrame.createOrReplaceTempView(\"words\")\n",
    "\n",
    "  // Do word count on DataFrame using SQL and print it\n",
    "  val wordCountsDataFrame = \n",
    "    spark.sql(\"select word, count(*) as total from words group by word\")\n",
    "  wordCountsDataFrame.show()\n",
    "}\n",
    "\n",
    "ssc.start()             \n",
    "ssc.awaitTerminationOrTimeout(60000)"
   ]
  }
 ],
 "metadata": {
  "kernelspec": {
   "display_name": "Scala 2.11 (SPylon)",
   "language": "scala",
   "name": "spylon-kernel"
  },
  "language_info": {
   "codemirror_mode": "text/x-scala",
   "file_extension": ".scala",
   "help_links": [
    {
     "text": "MetaKernel Magics",
     "url": "https://github.com/calysto/metakernel/blob/master/metakernel/magics/README.md"
    }
   ],
   "mimetype": "text/x-scala",
   "name": "scala",
   "pygments_lexer": "scala",
   "version": "0.4.1"
  }
 },
 "nbformat": 4,
 "nbformat_minor": 2
}
