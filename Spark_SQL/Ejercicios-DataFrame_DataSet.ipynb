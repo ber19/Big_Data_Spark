{
 "cells": [
  {
   "cell_type": "code",
   "execution_count": 1,
   "metadata": {},
   "outputs": [
    {
     "data": {
      "text/plain": [
       "Intitializing Scala interpreter ..."
      ]
     },
     "metadata": {},
     "output_type": "display_data"
    },
    {
     "data": {
      "text/plain": [
       "Spark Web UI available at http://10.0.2.15:4040\n",
       "SparkContext available as 'sc' (version = 2.4.6, master = local[*], app id = local-1616012424623)\n",
       "SparkSession available as 'spark'\n"
      ]
     },
     "metadata": {},
     "output_type": "display_data"
    },
    {
     "data": {
      "text/plain": [
       "import org.apache.spark.sql.DataFrame\n",
       "import org.apache.spark.sql.Dataset\n",
       "import spark.implicits._\n",
       "import org.apache.spark.sql.SparkSession\n"
      ]
     },
     "execution_count": 1,
     "metadata": {},
     "output_type": "execute_result"
    }
   ],
   "source": [
    "// Para trabajar con los DataFrame\n",
    "import org.apache.spark.sql.DataFrame\n",
    "// Para trabajar con SparkSQL\n",
    "import org.apache.spark.sql.SparkSession"
   ]
  },
  {
   "cell_type": "code",
   "execution_count": 2,
   "metadata": {},
   "outputs": [
    {
     "data": {
      "text/plain": [
       "spark: org.apache.spark.sql.SparkSession = org.apache.spark.sql.SparkSession@3113804d\n"
      ]
     },
     "execution_count": 2,
     "metadata": {},
     "output_type": "execute_result"
    }
   ],
   "source": [
    "// Se instancia SparkSQL\n",
    "val spark = SparkSession.builder.appName(\"miApp\").master(\"local\").getOrCreate()"
   ]
  },
  {
   "cell_type": "markdown",
   "metadata": {},
   "source": [
    "# Ejercicio 1\n",
    "Haciendo uso del archivo de twitter, contestar a las sisguientes preguntas:\n",
    "* ¿Cuantos tweets contiene el archivo?\n",
    "* ¿Cuantos tweets estan en ingles?\n",
    "* ¿De cuantos usuarios distintos hay algun tweet en el archivo?"
   ]
  },
  {
   "cell_type": "code",
   "execution_count": 4,
   "metadata": {},
   "outputs": [
    {
     "data": {
      "text/plain": [
       "tweetsJSON: org.apache.spark.sql.DataFrame = [contributors: string, coordinates: struct<coordinates: array<double>, type: string> ... 22 more fields]\n"
      ]
     },
     "execution_count": 4,
     "metadata": {},
     "output_type": "execute_result"
    }
   ],
   "source": [
    "// Leemos los datos del archivo como JSON\n",
    "val tweetsJSON = spark.read.json(\"/home/vmuser/curso/large-17-json\")"
   ]
  },
  {
   "cell_type": "code",
   "execution_count": 5,
   "metadata": {},
   "outputs": [
    {
     "name": "stdout",
     "output_type": "stream",
     "text": [
      "root\n",
      " |-- contributors: string (nullable = true)\n",
      " |-- coordinates: struct (nullable = true)\n",
      " |    |-- coordinates: array (nullable = true)\n",
      " |    |    |-- element: double (containsNull = true)\n",
      " |    |-- type: string (nullable = true)\n",
      " |-- created_at: string (nullable = true)\n",
      " |-- entities: struct (nullable = true)\n",
      " |    |-- hashtags: array (nullable = true)\n",
      " |    |    |-- element: struct (containsNull = true)\n",
      " |    |    |    |-- indices: array (nullable = true)\n",
      " |    |    |    |    |-- element: long (containsNull = true)\n",
      " |    |    |    |-- text: string (nullable = true)\n",
      " |    |-- media: array (nullable = true)\n",
      " |    |    |-- element: struct (containsNull = true)\n",
      " |    |    |    |-- display_url: string (nullable = true)\n",
      " |    |    |    |-- expanded_url: string (nullable = true)\n",
      " |    |    |    |-- id: long (nullable = true)\n",
      " |    |    |    |-- id_str: string (nullable = true)\n",
      " |    |    |    |-- indices: array (nullable = true)\n",
      " |    |    |    |    |-- element: long (containsNull = true)\n",
      " |    |    |    |-- media_url: string (nullable = true)\n",
      " |    |    |    |-- media_url_https: string (nullable = true)\n",
      " |    |    |    |-- sizes: struct (nullable = true)\n",
      " |    |    |    |    |-- large: struct (nullable = true)\n",
      " |    |    |    |    |    |-- h: long (nullable = true)\n",
      " |    |    |    |    |    |-- resize: string (nullable = true)\n",
      " |    |    |    |    |    |-- w: long (nullable = true)\n",
      " |    |    |    |    |-- medium: struct (nullable = true)\n",
      " |    |    |    |    |    |-- h: long (nullable = true)\n",
      " |    |    |    |    |    |-- resize: string (nullable = true)\n",
      " |    |    |    |    |    |-- w: long (nullable = true)\n",
      " |    |    |    |    |-- small: struct (nullable = true)\n",
      " |    |    |    |    |    |-- h: long (nullable = true)\n",
      " |    |    |    |    |    |-- resize: string (nullable = true)\n",
      " |    |    |    |    |    |-- w: long (nullable = true)\n",
      " |    |    |    |    |-- thumb: struct (nullable = true)\n",
      " |    |    |    |    |    |-- h: long (nullable = true)\n",
      " |    |    |    |    |    |-- resize: string (nullable = true)\n",
      " |    |    |    |    |    |-- w: long (nullable = true)\n",
      " |    |    |    |-- source_status_id: long (nullable = true)\n",
      " |    |    |    |-- source_status_id_str: string (nullable = true)\n",
      " |    |    |    |-- type: string (nullable = true)\n",
      " |    |    |    |-- url: string (nullable = true)\n",
      " |    |-- urls: array (nullable = true)\n",
      " |    |    |-- element: struct (containsNull = true)\n",
      " |    |    |    |-- display_url: string (nullable = true)\n",
      " |    |    |    |-- expanded_url: string (nullable = true)\n",
      " |    |    |    |-- indices: array (nullable = true)\n",
      " |    |    |    |    |-- element: long (containsNull = true)\n",
      " |    |    |    |-- url: string (nullable = true)\n",
      " |    |-- user_mentions: array (nullable = true)\n",
      " |    |    |-- element: struct (containsNull = true)\n",
      " |    |    |    |-- id: long (nullable = true)\n",
      " |    |    |    |-- id_str: string (nullable = true)\n",
      " |    |    |    |-- indices: array (nullable = true)\n",
      " |    |    |    |    |-- element: long (containsNull = true)\n",
      " |    |    |    |-- name: string (nullable = true)\n",
      " |    |    |    |-- screen_name: string (nullable = true)\n",
      " |-- favorited: boolean (nullable = true)\n",
      " |-- geo: struct (nullable = true)\n",
      " |    |-- coordinates: array (nullable = true)\n",
      " |    |    |-- element: double (containsNull = true)\n",
      " |    |-- type: string (nullable = true)\n",
      " |-- id: long (nullable = true)\n",
      " |-- id_str: string (nullable = true)\n",
      " |-- in_reply_to_screen_name: string (nullable = true)\n",
      " |-- in_reply_to_status_id: long (nullable = true)\n",
      " |-- in_reply_to_status_id_str: string (nullable = true)\n",
      " |-- in_reply_to_user_id: long (nullable = true)\n",
      " |-- in_reply_to_user_id_str: string (nullable = true)\n",
      " |-- lang: string (nullable = true)\n",
      " |-- limit: struct (nullable = true)\n",
      " |    |-- track: long (nullable = true)\n",
      " |-- place: struct (nullable = true)\n",
      " |    |-- attributes: struct (nullable = true)\n",
      " |    |    |-- locality: string (nullable = true)\n",
      " |    |    |-- region: string (nullable = true)\n",
      " |    |    |-- street_address: string (nullable = true)\n",
      " |    |-- bounding_box: struct (nullable = true)\n",
      " |    |    |-- coordinates: array (nullable = true)\n",
      " |    |    |    |-- element: array (containsNull = true)\n",
      " |    |    |    |    |-- element: array (containsNull = true)\n",
      " |    |    |    |    |    |-- element: double (containsNull = true)\n",
      " |    |    |-- type: string (nullable = true)\n",
      " |    |-- country: string (nullable = true)\n",
      " |    |-- country_code: string (nullable = true)\n",
      " |    |-- full_name: string (nullable = true)\n",
      " |    |-- id: string (nullable = true)\n",
      " |    |-- name: string (nullable = true)\n",
      " |    |-- place_type: string (nullable = true)\n",
      " |    |-- url: string (nullable = true)\n",
      " |-- possibly_sensitive: boolean (nullable = true)\n",
      " |-- retweet_count: long (nullable = true)\n",
      " |-- retweeted: boolean (nullable = true)\n",
      " |-- retweeted_status: struct (nullable = true)\n",
      " |    |-- contributors: array (nullable = true)\n",
      " |    |    |-- element: long (containsNull = true)\n",
      " |    |-- coordinates: struct (nullable = true)\n",
      " |    |    |-- coordinates: array (nullable = true)\n",
      " |    |    |    |-- element: double (containsNull = true)\n",
      " |    |    |-- type: string (nullable = true)\n",
      " |    |-- created_at: string (nullable = true)\n",
      " |    |-- entities: struct (nullable = true)\n",
      " |    |    |-- hashtags: array (nullable = true)\n",
      " |    |    |    |-- element: struct (containsNull = true)\n",
      " |    |    |    |    |-- indices: array (nullable = true)\n",
      " |    |    |    |    |    |-- element: long (containsNull = true)\n",
      " |    |    |    |    |-- text: string (nullable = true)\n",
      " |    |    |-- media: array (nullable = true)\n",
      " |    |    |    |-- element: struct (containsNull = true)\n",
      " |    |    |    |    |-- display_url: string (nullable = true)\n",
      " |    |    |    |    |-- expanded_url: string (nullable = true)\n",
      " |    |    |    |    |-- id: long (nullable = true)\n",
      " |    |    |    |    |-- id_str: string (nullable = true)\n",
      " |    |    |    |    |-- indices: array (nullable = true)\n",
      " |    |    |    |    |    |-- element: long (containsNull = true)\n",
      " |    |    |    |    |-- media_url: string (nullable = true)\n",
      " |    |    |    |    |-- media_url_https: string (nullable = true)\n",
      " |    |    |    |    |-- sizes: struct (nullable = true)\n",
      " |    |    |    |    |    |-- large: struct (nullable = true)\n",
      " |    |    |    |    |    |    |-- h: long (nullable = true)\n",
      " |    |    |    |    |    |    |-- resize: string (nullable = true)\n",
      " |    |    |    |    |    |    |-- w: long (nullable = true)\n",
      " |    |    |    |    |    |-- medium: struct (nullable = true)\n",
      " |    |    |    |    |    |    |-- h: long (nullable = true)\n",
      " |    |    |    |    |    |    |-- resize: string (nullable = true)\n",
      " |    |    |    |    |    |    |-- w: long (nullable = true)\n",
      " |    |    |    |    |    |-- small: struct (nullable = true)\n",
      " |    |    |    |    |    |    |-- h: long (nullable = true)\n",
      " |    |    |    |    |    |    |-- resize: string (nullable = true)\n",
      " |    |    |    |    |    |    |-- w: long (nullable = true)\n",
      " |    |    |    |    |    |-- thumb: struct (nullable = true)\n",
      " |    |    |    |    |    |    |-- h: long (nullable = true)\n",
      " |    |    |    |    |    |    |-- resize: string (nullable = true)\n",
      " |    |    |    |    |    |    |-- w: long (nullable = true)\n",
      " |    |    |    |    |-- source_status_id: long (nullable = true)\n",
      " |    |    |    |    |-- source_status_id_str: string (nullable = true)\n",
      " |    |    |    |    |-- type: string (nullable = true)\n",
      " |    |    |    |    |-- url: string (nullable = true)\n",
      " |    |    |-- urls: array (nullable = true)\n",
      " |    |    |    |-- element: struct (containsNull = true)\n",
      " |    |    |    |    |-- display_url: string (nullable = true)\n",
      " |    |    |    |    |-- expanded_url: string (nullable = true)\n",
      " |    |    |    |    |-- indices: array (nullable = true)\n",
      " |    |    |    |    |    |-- element: long (containsNull = true)\n",
      " |    |    |    |    |-- url: string (nullable = true)\n",
      " |    |    |-- user_mentions: array (nullable = true)\n",
      " |    |    |    |-- element: struct (containsNull = true)\n",
      " |    |    |    |    |-- id: long (nullable = true)\n",
      " |    |    |    |    |-- id_str: string (nullable = true)\n",
      " |    |    |    |    |-- indices: array (nullable = true)\n",
      " |    |    |    |    |    |-- element: long (containsNull = true)\n",
      " |    |    |    |    |-- name: string (nullable = true)\n",
      " |    |    |    |    |-- screen_name: string (nullable = true)\n",
      " |    |-- favorited: boolean (nullable = true)\n",
      " |    |-- geo: struct (nullable = true)\n",
      " |    |    |-- coordinates: array (nullable = true)\n",
      " |    |    |    |-- element: double (containsNull = true)\n",
      " |    |    |-- type: string (nullable = true)\n",
      " |    |-- id: long (nullable = true)\n",
      " |    |-- id_str: string (nullable = true)\n",
      " |    |-- in_reply_to_screen_name: string (nullable = true)\n",
      " |    |-- in_reply_to_status_id: long (nullable = true)\n",
      " |    |-- in_reply_to_status_id_str: string (nullable = true)\n",
      " |    |-- in_reply_to_user_id: long (nullable = true)\n",
      " |    |-- in_reply_to_user_id_str: string (nullable = true)\n",
      " |    |-- lang: string (nullable = true)\n",
      " |    |-- place: struct (nullable = true)\n",
      " |    |    |-- attributes: struct (nullable = true)\n",
      " |    |    |    |-- street_address: string (nullable = true)\n",
      " |    |    |-- bounding_box: struct (nullable = true)\n",
      " |    |    |    |-- coordinates: array (nullable = true)\n",
      " |    |    |    |    |-- element: array (containsNull = true)\n",
      " |    |    |    |    |    |-- element: array (containsNull = true)\n",
      " |    |    |    |    |    |    |-- element: double (containsNull = true)\n",
      " |    |    |    |-- type: string (nullable = true)\n",
      " |    |    |-- country: string (nullable = true)\n",
      " |    |    |-- country_code: string (nullable = true)\n",
      " |    |    |-- full_name: string (nullable = true)\n",
      " |    |    |-- id: string (nullable = true)\n",
      " |    |    |-- name: string (nullable = true)\n",
      " |    |    |-- place_type: string (nullable = true)\n",
      " |    |    |-- url: string (nullable = true)\n",
      " |    |-- possibly_sensitive: boolean (nullable = true)\n",
      " |    |-- retweet_count: long (nullable = true)\n",
      " |    |-- retweeted: boolean (nullable = true)\n",
      " |    |-- scopes: struct (nullable = true)\n",
      " |    |    |-- followers: boolean (nullable = true)\n",
      " |    |-- source: string (nullable = true)\n",
      " |    |-- text: string (nullable = true)\n",
      " |    |-- truncated: boolean (nullable = true)\n",
      " |    |-- user: struct (nullable = true)\n",
      " |    |    |-- contributors_enabled: boolean (nullable = true)\n",
      " |    |    |-- created_at: string (nullable = true)\n",
      " |    |    |-- default_profile: boolean (nullable = true)\n",
      " |    |    |-- default_profile_image: boolean (nullable = true)\n",
      " |    |    |-- description: string (nullable = true)\n",
      " |    |    |-- favourites_count: long (nullable = true)\n",
      " |    |    |-- follow_request_sent: string (nullable = true)\n",
      " |    |    |-- followers_count: long (nullable = true)\n",
      " |    |    |-- following: string (nullable = true)\n",
      " |    |    |-- friends_count: long (nullable = true)\n",
      " |    |    |-- geo_enabled: boolean (nullable = true)\n",
      " |    |    |-- id: long (nullable = true)\n",
      " |    |    |-- id_str: string (nullable = true)\n",
      " |    |    |-- is_translator: boolean (nullable = true)\n",
      " |    |    |-- lang: string (nullable = true)\n",
      " |    |    |-- listed_count: long (nullable = true)\n",
      " |    |    |-- location: string (nullable = true)\n",
      " |    |    |-- name: string (nullable = true)\n",
      " |    |    |-- notifications: string (nullable = true)\n",
      " |    |    |-- profile_background_color: string (nullable = true)\n",
      " |    |    |-- profile_background_image_url: string (nullable = true)\n",
      " |    |    |-- profile_background_image_url_https: string (nullable = true)\n",
      " |    |    |-- profile_background_tile: boolean (nullable = true)\n",
      " |    |    |-- profile_banner_url: string (nullable = true)\n",
      " |    |    |-- profile_image_url: string (nullable = true)\n",
      " |    |    |-- profile_image_url_https: string (nullable = true)\n",
      " |    |    |-- profile_link_color: string (nullable = true)\n",
      " |    |    |-- profile_sidebar_border_color: string (nullable = true)\n",
      " |    |    |-- profile_sidebar_fill_color: string (nullable = true)\n",
      " |    |    |-- profile_text_color: string (nullable = true)\n",
      " |    |    |-- profile_use_background_image: boolean (nullable = true)\n",
      " |    |    |-- protected: boolean (nullable = true)\n",
      " |    |    |-- screen_name: string (nullable = true)\n",
      " |    |    |-- statuses_count: long (nullable = true)\n",
      " |    |    |-- time_zone: string (nullable = true)\n",
      " |    |    |-- url: string (nullable = true)\n",
      " |    |    |-- utc_offset: long (nullable = true)\n",
      " |    |    |-- verified: boolean (nullable = true)\n",
      " |-- source: string (nullable = true)\n",
      " |-- text: string (nullable = true)\n",
      " |-- truncated: boolean (nullable = true)\n",
      " |-- user: struct (nullable = true)\n",
      " |    |-- contributors_enabled: boolean (nullable = true)\n",
      " |    |-- created_at: string (nullable = true)\n",
      " |    |-- default_profile: boolean (nullable = true)\n",
      " |    |-- default_profile_image: boolean (nullable = true)\n",
      " |    |-- description: string (nullable = true)\n",
      " |    |-- favourites_count: long (nullable = true)\n",
      " |    |-- follow_request_sent: string (nullable = true)\n",
      " |    |-- followers_count: long (nullable = true)\n",
      " |    |-- following: string (nullable = true)\n",
      " |    |-- friends_count: long (nullable = true)\n",
      " |    |-- geo_enabled: boolean (nullable = true)\n",
      " |    |-- id: long (nullable = true)\n",
      " |    |-- id_str: string (nullable = true)\n",
      " |    |-- is_translator: boolean (nullable = true)\n",
      " |    |-- lang: string (nullable = true)\n",
      " |    |-- listed_count: long (nullable = true)\n",
      " |    |-- location: string (nullable = true)\n",
      " |    |-- name: string (nullable = true)\n",
      " |    |-- notifications: string (nullable = true)\n",
      " |    |-- profile_background_color: string (nullable = true)\n",
      " |    |-- profile_background_image_url: string (nullable = true)\n",
      " |    |-- profile_background_image_url_https: string (nullable = true)\n",
      " |    |-- profile_background_tile: boolean (nullable = true)\n",
      " |    |-- profile_banner_url: string (nullable = true)\n",
      " |    |-- profile_image_url: string (nullable = true)\n",
      " |    |-- profile_image_url_https: string (nullable = true)\n",
      " |    |-- profile_link_color: string (nullable = true)\n",
      " |    |-- profile_sidebar_border_color: string (nullable = true)\n",
      " |    |-- profile_sidebar_fill_color: string (nullable = true)\n",
      " |    |-- profile_text_color: string (nullable = true)\n",
      " |    |-- profile_use_background_image: boolean (nullable = true)\n",
      " |    |-- protected: boolean (nullable = true)\n",
      " |    |-- screen_name: string (nullable = true)\n",
      " |    |-- statuses_count: long (nullable = true)\n",
      " |    |-- time_zone: string (nullable = true)\n",
      " |    |-- url: string (nullable = true)\n",
      " |    |-- utc_offset: long (nullable = true)\n",
      " |    |-- verified: boolean (nullable = true)\n"
     ]
    },
    {
     "name": "stdout",
     "output_type": "stream",
     "text": [
      "\n"
     ]
    }
   ],
   "source": [
    "// Mostramos la estructura del archivo\n",
    "tweetsJSON.printSchema()"
   ]
  },
  {
   "cell_type": "code",
   "execution_count": 10,
   "metadata": {},
   "outputs": [
    {
     "name": "stdout",
     "output_type": "stream",
     "text": [
      "Hay 515361 tweets en el archivo\n"
     ]
    },
    {
     "data": {
      "text/plain": [
       "numTweets: Long = 515361\n"
      ]
     },
     "execution_count": 10,
     "metadata": {},
     "output_type": "execute_result"
    }
   ],
   "source": [
    "// Contamos los registros del archivo\n",
    "val numTweets = tweetsJSON.count()\n",
    "println(\"Hay \"+numTweets+\" tweets en el archivo\")"
   ]
  },
  {
   "cell_type": "code",
   "execution_count": 11,
   "metadata": {},
   "outputs": [
    {
     "name": "stdout",
     "output_type": "stream",
     "text": [
      "Hay 356218 tweets en ingles\n"
     ]
    },
    {
     "data": {
      "text/plain": [
       "tweetsIngles: Long = 356218\n"
      ]
     },
     "execution_count": 11,
     "metadata": {},
     "output_type": "execute_result"
    }
   ],
   "source": [
    "// Hacemos un filtro y contamos el resultado\n",
    "val tweetsIngles = tweetsJSON.filter($\"lang\"===\"en\").count()\n",
    "println(\"Hay \"+tweetsIngles+\" tweets en ingles\")"
   ]
  },
  {
   "cell_type": "code",
   "execution_count": 21,
   "metadata": {},
   "outputs": [
    {
     "name": "stdout",
     "output_type": "stream",
     "text": [
      "Hay 352736 usuarios en el archivo\n"
     ]
    },
    {
     "data": {
      "text/plain": [
       "usuario: org.apache.spark.sql.DataFrame = [screen_name: string]\n",
       "distintos: Long = 352736\n"
      ]
     },
     "execution_count": 21,
     "metadata": {},
     "output_type": "execute_result"
    }
   ],
   "source": [
    "// Seleccionamos los registros de la columna indicada\n",
    "val usuario = tweetsJSON.select(\"user.screen_name\")\n",
    "// Contamos los registros seleccionados diferentes entre si\n",
    "val distintos = usuario.distinct().count()\n",
    "println(\"Hay \"+distintos+\" usuarios en el archivo\")"
   ]
  },
  {
   "cell_type": "markdown",
   "metadata": {},
   "source": [
    "# Ejercicio 2\n",
    "Definir una clase Tweet con la siguiente estructur:\n",
    "* Tweet\n",
    "    * Fecha creacion\n",
    "    * Nombre usuario\n",
    "    * Numero seguidores\n",
    "    * Texto\n",
    "    \n",
    "Luego, convertir el DataFrame del Ejecicio 1 en un DataSet, y responder:\n",
    "* ¿Quien es el usuario con mayor número de seguidores?"
   ]
  },
  {
   "cell_type": "code",
   "execution_count": 54,
   "metadata": {},
   "outputs": [
    {
     "data": {
      "text/plain": [
       "import org.apache.spark.sql.Dataset\n",
       "import spark.implicits._\n"
      ]
     },
     "execution_count": 54,
     "metadata": {},
     "output_type": "execute_result"
    }
   ],
   "source": [
    "// Para trabajar con los DataSet\n",
    "import org.apache.spark.sql.Dataset\n",
    "import spark.implicits._"
   ]
  },
  {
   "cell_type": "code",
   "execution_count": 55,
   "metadata": {},
   "outputs": [
    {
     "data": {
      "text/plain": [
       "defined class Tweet\n"
      ]
     },
     "execution_count": 55,
     "metadata": {},
     "output_type": "execute_result"
    }
   ],
   "source": [
    "// Definimos la clase Tweet\n",
    "case class Tweet(Fecha_creacion: Option[String], Nombre_usuario: Option[String],\n",
    "                Numero_seguidores: Option[Long], Texto: Option[String])"
   ]
  },
  {
   "cell_type": "code",
   "execution_count": 56,
   "metadata": {},
   "outputs": [
    {
     "name": "stdout",
     "output_type": "stream",
     "text": [
      "+--------------------+---------------+---------------+--------------------+\n",
      "|          created_at|    screen_name|followers_count|                text|\n",
      "+--------------------+---------------+---------------+--------------------+\n",
      "|Fri Dec 21 22:53:...|   washexaminer|           1995|Obama meets Reid ...|\n",
      "|Fri Dec 21 22:53:...|narrychristmas_|            269|@halluzaynating o...|\n",
      "|Fri Dec 21 22:53:...|  nicolehoran08|            120|@hii1d Awww. Poor...|\n",
      "|Fri Dec 21 22:53:...|     Odemanjr15|             61|All you need in a...|\n",
      "|Fri Dec 21 22:53:...|       colovion|            490|RT @PatDollard: W...|\n",
      "|Fri Dec 21 22:53:...|Coolan_n_Foolan|            153|Crankin to this F...|\n",
      "|Fri Dec 21 22:53:...|     YoSoyDalia|           2081|RT @InjusticeFact...|\n",
      "|Fri Dec 21 22:53:...|   KinderdijkNL|             42|Prio 2 TS500 Bran...|\n",
      "|Fri Dec 21 22:53:...|    akmalarif90|            545|RT @BBCWorld: Bar...|\n",
      "|Fri Dec 21 22:53:...|   organicsblue|              1|Amazon Kindle Pap...|\n",
      "|Fri Dec 21 22:53:...|  Odielicious18|            729|Magna now, West J...|\n",
      "|Fri Dec 21 22:53:...| ArticLightning|            168|I liked a @YouTub...|\n",
      "|Fri Dec 21 22:53:...|      skyriver1|            679|If social media w...|\n",
      "|Fri Dec 21 22:53:...|      MAliciavp|            435|RT @Clapsico: OTR...|\n",
      "|Fri Dec 21 22:53:...|    dave53elmer|            127|RT @meridak  Obam...|\n",
      "|Fri Dec 21 22:53:...|     onegringaa|            331|RT @OceannJennaa:...|\n",
      "|Fri Dec 21 22:53:...|  FingerStinger|           5353|\"Bred\" definition...|\n",
      "|Fri Dec 21 22:53:...|       mario87s|            111|RT @atienzajc: Ll...|\n",
      "|Fri Dec 21 22:53:...|  brownandbella|            788|RT @Green_Footbal...|\n",
      "|Fri Dec 21 22:53:...|   zhaiickodrjv|           1604|He's playin' Call...|\n",
      "+--------------------+---------------+---------------+--------------------+\n",
      "only showing top 20 rows\n",
      "\n"
     ]
    },
    {
     "data": {
      "text/plain": [
       "tweetsDF: org.apache.spark.sql.DataFrame = [created_at: string, screen_name: string ... 2 more fields]\n"
      ]
     },
     "execution_count": 56,
     "metadata": {},
     "output_type": "execute_result"
    }
   ],
   "source": [
    "// Seleccionamos los atributos del archivo\n",
    "val tweetsDF = tweetsJSON.select(\"created_at\", \"user.screen_name\",\n",
    "                                \"user.followers_count\", \"text\")\n",
    "// Se muestran como una tabla\n",
    "tweetsDF.show()"
   ]
  },
  {
   "cell_type": "code",
   "execution_count": 57,
   "metadata": {},
   "outputs": [
    {
     "name": "stdout",
     "output_type": "stream",
     "text": [
      "+--------------------+---------------+-----------------+--------------------+\n",
      "|      Fecha_creacion| Nombre_usuario|Numero_seguidores|               Texto|\n",
      "+--------------------+---------------+-----------------+--------------------+\n",
      "|Fri Dec 21 22:53:...|   washexaminer|             1995|Obama meets Reid ...|\n",
      "|Fri Dec 21 22:53:...|narrychristmas_|              269|@halluzaynating o...|\n",
      "|Fri Dec 21 22:53:...|  nicolehoran08|              120|@hii1d Awww. Poor...|\n",
      "|Fri Dec 21 22:53:...|     Odemanjr15|               61|All you need in a...|\n",
      "|Fri Dec 21 22:53:...|       colovion|              490|RT @PatDollard: W...|\n",
      "|Fri Dec 21 22:53:...|Coolan_n_Foolan|              153|Crankin to this F...|\n",
      "|Fri Dec 21 22:53:...|     YoSoyDalia|             2081|RT @InjusticeFact...|\n",
      "|Fri Dec 21 22:53:...|   KinderdijkNL|               42|Prio 2 TS500 Bran...|\n",
      "|Fri Dec 21 22:53:...|    akmalarif90|              545|RT @BBCWorld: Bar...|\n",
      "|Fri Dec 21 22:53:...|   organicsblue|                1|Amazon Kindle Pap...|\n",
      "|Fri Dec 21 22:53:...|  Odielicious18|              729|Magna now, West J...|\n",
      "|Fri Dec 21 22:53:...| ArticLightning|              168|I liked a @YouTub...|\n",
      "|Fri Dec 21 22:53:...|      skyriver1|              679|If social media w...|\n",
      "|Fri Dec 21 22:53:...|      MAliciavp|              435|RT @Clapsico: OTR...|\n",
      "|Fri Dec 21 22:53:...|    dave53elmer|              127|RT @meridak  Obam...|\n",
      "|Fri Dec 21 22:53:...|     onegringaa|              331|RT @OceannJennaa:...|\n",
      "|Fri Dec 21 22:53:...|  FingerStinger|             5353|\"Bred\" definition...|\n",
      "|Fri Dec 21 22:53:...|       mario87s|              111|RT @atienzajc: Ll...|\n",
      "|Fri Dec 21 22:53:...|  brownandbella|              788|RT @Green_Footbal...|\n",
      "|Fri Dec 21 22:53:...|   zhaiickodrjv|             1604|He's playin' Call...|\n",
      "+--------------------+---------------+-----------------+--------------------+\n",
      "only showing top 20 rows\n",
      "\n"
     ]
    },
    {
     "data": {
      "text/plain": [
       "tweetsDS: org.apache.spark.sql.Dataset[Tweet] = [Fecha_creacion: string, Nombre_usuario: string ... 2 more fields]\n"
      ]
     },
     "execution_count": 57,
     "metadata": {},
     "output_type": "execute_result"
    }
   ],
   "source": [
    "// Le damos nombre a las columnas del dataframe anterior,\n",
    "// y lo convertimos a dataset al otorgarle la clase Tweet\n",
    "val tweetsDS = tweetsDF.toDF(\"Fecha_creacion\", \"Nombre_usuario\",\n",
    "                            \"Numero_seguidores\", \"Texto\").as[Tweet]\n",
    "// Se sigue mostrando como una tabla\n",
    "tweetsDS.show()"
   ]
  },
  {
   "cell_type": "code",
   "execution_count": 58,
   "metadata": {},
   "outputs": [
    {
     "name": "stdout",
     "output_type": "stream",
     "text": [
      "+--------------------+--------------+-----------------+--------------------+\n",
      "|      Fecha_creacion|Nombre_usuario|Numero_seguidores|               Texto|\n",
      "+--------------------+--------------+-----------------+--------------------+\n",
      "|Sat Dec 22 00:38:...|   BarackObama|         24829148|RT @whitehouse: \"...|\n",
      "|Sat Dec 22 00:03:...|        cnnbrk|          9726909|Obama outlines a ...|\n",
      "|Sat Dec 22 00:56:...|  RyanSeacrest|          8387001|RT @BAHjournalist...|\n",
      "|Sat Dec 22 01:37:...|       nytimes|          6903302|$60.4 Billion Hur...|\n",
      "|Sat Dec 22 02:55:...|           CNN|          6861562|Opinion: What Oba...|\n",
      "|Sat Dec 22 00:23:...|           CNN|          6860745|Blizzard causes c...|\n",
      "|Sat Dec 22 00:07:...|           CNN|          6860700|RT @OutFrontCNN: ...|\n",
      "|Fri Dec 21 22:57:...|           CNN|          6860411|RT @PoliticalTick...|\n",
      "|Sat Dec 22 01:44:...|           NBA|          6409870|Thad Young has 16...|\n",
      "|Sat Dec 22 01:03:...|           NBA|          6409728|Zaza Pachulia bea...|\n",
      "|Sat Dec 22 00:16:...|   PerezHilton|          5950573|@michelleobama Ba...|\n",
      "|Sat Dec 22 00:16:...|   PerezHilton|          5950572|@barackobama Bara...|\n",
      "|Fri Dec 21 23:00:...|          TIME|          4103091|Obama says he is ...|\n",
      "|Fri Dec 21 23:53:...| JonasBrothers|          4046174|Latin and South A...|\n",
      "|Sat Dec 22 01:30:...|    whitehouse|          3430974|\"We remember a ma...|\n",
      "|Sat Dec 22 00:19:...|    whitehouse|          3430592|\"We move forward ...|\n",
      "|Sat Dec 22 00:16:...|      Metro_TV|          3267394|Video Editorial M...|\n",
      "|Sat Dec 22 00:00:...|           Tip|          3152197|CD Signing + Free...|\n",
      "|Sat Dec 22 02:16:...|       llcoolj|          3081354|@RichNiceDigital ...|\n",
      "|Sat Dec 22 01:28:...|      BBCWorld|          2907791|Could mineral wea...|\n",
      "+--------------------+--------------+-----------------+--------------------+\n",
      "only showing top 20 rows\n",
      "\n"
     ]
    },
    {
     "data": {
      "text/plain": [
       "import org.apache.spark.sql.functions._\n",
       "ordenados: org.apache.spark.sql.Dataset[Tweet] = [Fecha_creacion: string, Nombre_usuario: string ... 2 more fields]\n"
      ]
     },
     "execution_count": 58,
     "metadata": {},
     "output_type": "execute_result"
    }
   ],
   "source": [
    "// Nos otorga funciones para SparkSQL\n",
    "import org.apache.spark.sql.functions._\n",
    "// Ordenamos de manera descendente segun la columna \"Numero_Seguidores\"\n",
    "val ordenados = tweetsDS.orderBy(desc(\"Numero_seguidores\"))\n",
    "// Se muestra el resultado como una tabla\n",
    "ordenados.show()"
   ]
  },
  {
   "cell_type": "code",
   "execution_count": 69,
   "metadata": {},
   "outputs": [
    {
     "name": "stdout",
     "output_type": "stream",
     "text": [
      "+--------------+\n",
      "|Nombre_usuario|\n",
      "+--------------+\n",
      "|   BarackObama|\n",
      "+--------------+\n",
      "\n"
     ]
    },
    {
     "data": {
      "text/plain": [
       "mas_seguidores: Unit = ()\n"
      ]
     },
     "execution_count": 69,
     "metadata": {},
     "output_type": "execute_result"
    }
   ],
   "source": [
    "// Se imprime el primer registro(solo la columna \"Nombre_usuario\")\n",
    "// dataset anterior\n",
    "val mas_seguidores = ordenados.select(\"Nombre_usuario\").limit(1).show()"
   ]
  },
  {
   "cell_type": "markdown",
   "metadata": {},
   "source": [
    "# Ejercicio 3\n",
    "Haciendo uso del DataSet del ejericio 2:\n",
    "* Aplicarle persistencia solo en disco\n",
    "* ¿Cuantos tweets contienen la palabra \"data\"?\n",
    "* Volcar el dataset en un archivo JSON"
   ]
  },
  {
   "cell_type": "code",
   "execution_count": 70,
   "metadata": {},
   "outputs": [
    {
     "data": {
      "text/plain": [
       "import org.apache.spark.storage.StorageLevel\n"
      ]
     },
     "execution_count": 70,
     "metadata": {},
     "output_type": "execute_result"
    }
   ],
   "source": [
    "// Ofrece herramientas para Persistencia\n",
    "import org.apache.spark.storage.StorageLevel"
   ]
  },
  {
   "cell_type": "code",
   "execution_count": 71,
   "metadata": {},
   "outputs": [
    {
     "data": {
      "text/plain": [
       "res44: tweetsDS.type = [Fecha_creacion: string, Nombre_usuario: string ... 2 more fields]\n"
      ]
     },
     "execution_count": 71,
     "metadata": {},
     "output_type": "execute_result"
    }
   ],
   "source": [
    "// Se le aplica persistencia solo en disco al dataset\n",
    "tweetsDS.persist(StorageLevel.DISK_ONLY)"
   ]
  },
  {
   "cell_type": "code",
   "execution_count": 74,
   "metadata": {},
   "outputs": [
    {
     "data": {
      "text/plain": [
       "conData: Long = 161\n"
      ]
     },
     "execution_count": 74,
     "metadata": {},
     "output_type": "execute_result"
    }
   ],
   "source": [
    "// Se filtran los registros que en su columna Texto contengan\n",
    "// la palabra \"data\" y se cuentan estos registros\n",
    "val conData = tweetsDS.filter($\"Texto\".like(\"% data %\")).count()"
   ]
  },
  {
   "cell_type": "code",
   "execution_count": 79,
   "metadata": {},
   "outputs": [
    {
     "data": {
      "text/plain": [
       "conData2: org.apache.spark.sql.Dataset[Array[String]] = [value: array<string>]\n",
       "res48: Long = 161\n"
      ]
     },
     "execution_count": 79,
     "metadata": {},
     "output_type": "execute_result"
    }
   ],
   "source": [
    "// Seleccionamos la columna Texto de los registros\n",
    "// Para cada valor de estos registros, los convertimos a strings y\n",
    "// los dividimos por palabras (en donde haya \" \") y se nos retorna un array\n",
    "val conData2 = tweetsDS.select(\"Texto\").map(p => p.toString().split(\" \"))\n",
    "// Se filtran los registros contando solo los que contengan el\n",
    "// string \"data\"\n",
    "conData2.filter(_.contains(\"data\")).count()"
   ]
  },
  {
   "cell_type": "code",
   "execution_count": 82,
   "metadata": {},
   "outputs": [],
   "source": [
    "// Creamos un archivo que contiene el dataset \"tweetsDS\"\n",
    "tweetsDS.write.json(\"/home/vmuser/curso/datasetTweets\")"
   ]
  }
 ],
 "metadata": {
  "kernelspec": {
   "display_name": "Scala 2.11 (SPylon)",
   "language": "scala",
   "name": "spylon-kernel"
  },
  "language_info": {
   "codemirror_mode": "text/x-scala",
   "file_extension": ".scala",
   "help_links": [
    {
     "text": "MetaKernel Magics",
     "url": "https://github.com/calysto/metakernel/blob/master/metakernel/magics/README.md"
    }
   ],
   "mimetype": "text/x-scala",
   "name": "scala",
   "pygments_lexer": "scala",
   "version": "0.4.1"
  }
 },
 "nbformat": 4,
 "nbformat_minor": 2
}
