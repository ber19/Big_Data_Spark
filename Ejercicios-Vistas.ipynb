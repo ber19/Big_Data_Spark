{
 "cells": [
  {
   "cell_type": "markdown",
   "metadata": {},
   "source": [
    "# Ejercicio 1\n",
    "Crear una nueva spark y cargar los datos del fichero \"large-17-json\"\n",
    "\n",
    "* Crear un dataframe con los 50 tweets mas \"retweeteados\" ordenados por ese campo.\n",
    "\n",
    "Solo interesan los campos: \n",
    "* retweeted_status.user.screen_name\n",
    "* retweeted_status.text\n",
    "* retweeted_status.retweet_count \n",
    "\n",
    "No pueden aparecer tweets con numero de RT = 0.\n",
    "\n",
    "Volcar estos datos en un archivo JSON"
   ]
  },
  {
   "cell_type": "code",
   "execution_count": 2,
   "metadata": {},
   "outputs": [
    {
     "data": {
      "text/plain": [
       "import org.apache.spark.sql.SparkSession\n",
       "spark: org.apache.spark.sql.SparkSession = org.apache.spark.sql.SparkSession@4445a4b2\n"
      ]
     },
     "execution_count": 2,
     "metadata": {},
     "output_type": "execute_result"
    }
   ],
   "source": [
    "// Importamos el SparkSession (para trabajar con SparkSQL)\n",
    "import org.apache.spark.sql.SparkSession\n",
    "// Instanciamos la SparkSession\n",
    "val spark = SparkSession.builder.appName(\"miApp\").master(\"local\").getOrCreate()"
   ]
  },
  {
   "cell_type": "code",
   "execution_count": 3,
   "metadata": {},
   "outputs": [
    {
     "data": {
      "text/plain": [
       "tweetsJSON: org.apache.spark.sql.DataFrame = [contributors: string, coordinates: struct<coordinates: array<double>, type: string> ... 22 more fields]\n"
      ]
     },
     "execution_count": 3,
     "metadata": {},
     "output_type": "execute_result"
    }
   ],
   "source": [
    "// Leemos el archivo como JSON, y obtenemos un dataframe\n",
    "val tweetsJSON = spark.read.json(\"/home/vmuser/curso/large-17-json\")"
   ]
  },
  {
   "cell_type": "code",
   "execution_count": 44,
   "metadata": {},
   "outputs": [],
   "source": [
    "// Creamos una vista temporal y la llamamos \"masRT\"\n",
    "tweetsJSON.createOrReplaceTempView(\"masRT\")"
   ]
  },
  {
   "cell_type": "code",
   "execution_count": 55,
   "metadata": {},
   "outputs": [
    {
     "data": {
      "text/plain": [
       "masRetweets: org.apache.spark.sql.DataFrame = [screen_name: string, text: string ... 1 more field]\n"
      ]
     },
     "execution_count": 55,
     "metadata": {},
     "output_type": "execute_result"
    }
   ],
   "source": [
    "// Hacemos una consulta SQL a la vista \"masRT\"\n",
    "val masRetweets = spark.sql(\"select first(retweeted_status.user.screen_name) as screen_name, first(retweeted_status.text) as text, sum(retweeted_status.retweet_count) as retweet_count from masRT where retweeted_status.retweet_count>0 group by(text) order by retweet_count DESC limit 50\") "
   ]
  },
  {
   "cell_type": "code",
   "execution_count": 56,
   "metadata": {},
   "outputs": [
    {
     "name": "stdout",
     "output_type": "stream",
     "text": [
      "+--------------+--------------------+-------------+\n",
      "|   screen_name|                text|retweet_count|\n",
      "+--------------+--------------------+-------------+\n",
      "|  justinbieber|i kinda felt like...|      3978764|\n",
      "|   WeLoveFredo|This is me rn. ca...|      2633561|\n",
      "|  DaRealMayans|REBECCA BLACK TRI...|      1589543|\n",
      "|  justinbieber|haha. u guys are ...|      1097901|\n",
      "|dailyteenwords|I want to live my...|       988142|\n",
      "|   soldier7078|Merry Xmas from t...|       797796|\n",
      "|  ohteenquotes|I'm not popular, ...|       784667|\n",
      "|  justinbieber|i love my beliebe...|       770604|\n",
      "|  justinbieber|http://t.co/tFBHqTp5|       715651|\n",
      "|   damnitstrue|I want to live my...|       679720|\n",
      "|GhettoChiIdren|Black, White, Chi...|       629643|\n",
      "| ForMyKidrauhl|\"Harry, Who's the...|       626686|\n",
      "|   BarackObama|\"There is absolut...|       626016|\n",
      "|     UberFacts|Cracking your knu...|       496624|\n",
      "|TheOfficialTed|Poor bitch http:/...|       483533|\n",
      "|GhettoChiIdren|Why Black People ...|       471489|\n",
      "|HuffingtonPost|POLL: Retweet if ...|       444159|\n",
      "| ForMyKidrauhl|Directioners, if ...|       437221|\n",
      "|    lmfaoharry|Fans: \"OMG ONE DI...|       366203|\n",
      "| AlfredoFlores|@LittlecBeadles T...|       340069|\n",
      "+--------------+--------------------+-------------+\n",
      "only showing top 20 rows\n",
      "\n"
     ]
    }
   ],
   "source": [
    "masRetweets.show()"
   ]
  },
  {
   "cell_type": "code",
   "execution_count": null,
   "metadata": {},
   "outputs": [],
   "source": []
  }
 ],
 "metadata": {
  "kernelspec": {
   "display_name": "Scala 2.11 (SPylon)",
   "language": "scala",
   "name": "spylon-kernel"
  },
  "language_info": {
   "codemirror_mode": "text/x-scala",
   "file_extension": ".scala",
   "help_links": [
    {
     "text": "MetaKernel Magics",
     "url": "https://github.com/calysto/metakernel/blob/master/metakernel/magics/README.md"
    }
   ],
   "mimetype": "text/x-scala",
   "name": "scala",
   "pygments_lexer": "scala",
   "version": "0.4.1"
  }
 },
 "nbformat": 4,
 "nbformat_minor": 2
}
